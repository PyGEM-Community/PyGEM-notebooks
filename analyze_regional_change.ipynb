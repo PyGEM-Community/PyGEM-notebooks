{
 "cells": [
  {
   "cell_type": "markdown",
   "metadata": {},
   "source": [
    "# PyGEM regional glacier change analysis"
   ]
  },
  {
   "cell_type": "markdown",
   "metadata": {},
   "source": [
    "Brandon Tober, David Rounce<br>\n",
    "Carnegie Mellon University<br>\n",
    "20250103<br><br>\n",
    "Objective: Showcase how to regionally compile simulations and analyze the aggregated glacier change."
   ]
  },
  {
   "cell_type": "markdown",
   "metadata": {},
   "source": [
    ">**Note:** in this notebook, any PyGEM Python scripts that are called will be preceeded by ```!```. In Jupyter Notebook, the ```!``` character is used to execute shell commands directly from a notebook cell. When you prefix a command with ```!```, Jupyter sends it to the system's command-line shell for execution, instead of interpreting it as Python code. Command-line arguments are also bracketed (e.g., ```{arg}```), when passing Python variables to a command-line shell from within a Jupyter Notebook. If executing a given PyGEM script directly from one's terminal, remove the ```!``` character and brackets ```{}``` around arguments.\n",
    ">\n",
    ">**Also note:** some useful information for any PyGEM script can be displayed by running\n",
    "```!script -h```"
   ]
  },
  {
   "cell_type": "markdown",
   "metadata": {},
   "source": [
    "This notebook follows the notebooks *run_calibration.ipynb* and *run_simulation.ipynb*, assuming that a set of regional PyGEM simulations have been performed for RGI region 6 (Iceland) for GCM BCC-CSM2-MR, scenario ssp245 following **MCMC** calibration."
   ]
  },
  {
   "cell_type": "code",
   "execution_count": null,
   "metadata": {},
   "outputs": [],
   "source": [
    "### imports ###\n",
    "import os, sys, glob\n",
    "# pygem imports\n",
    "import pygem.setup.config as config\n",
    "# check for config\n",
    "config.ensure_config()\n",
    "# read the config\n",
    "pygem_prms = config.read_config()   # NOTE: ensure that your root path in ~/PyGEM/config.yaml points to\n",
    "                                    # the appropriate location. If any errors occur, check this first."
   ]
  },
  {
   "cell_type": "markdown",
   "metadata": {},
   "source": [
    "## Compile regional simulations\n",
    "The first step is to aggregate/compile all simulations for the desired RGI region."
   ]
  },
  {
   "cell_type": "code",
   "execution_count": null,
   "metadata": {},
   "outputs": [],
   "source": [
    "# take a look how to call the compile_simulations script:\n",
    "!compile_simulations -h "
   ]
  },
  {
   "cell_type": "code",
   "execution_count": null,
   "metadata": {},
   "outputs": [],
   "source": [
    "# define args\n",
    "gcm = 'BCC-CSM2-MR'\n",
    "scenario = 'ssp245'\n",
    "region = 6  # Iceland\n",
    "calib = 'MCMC'  # `MCMC` calibration opt\n",
    "startyr = 2000  # simulations start year\n",
    "endyr = 2100    # simulations end year"
   ]
  },
  {
   "cell_type": "code",
   "execution_count": null,
   "metadata": {},
   "outputs": [],
   "source": [
    "!compile_simulations -rgi_region01 {region} -gcm_name {gcm} -scenario {scenario} -gcm_startyear {startyr} -gcm_endyear {endyr} -option_calibration {calib}"
   ]
  },
  {
   "cell_type": "markdown",
   "metadata": {},
   "source": [
    "The result of this step will be an aggregated netcdf file for variable, stored within `pygem_prms['root']/Output/simulations/compile`\n",
    "\n",
    ">**Note:**, for monthly variables (e.g. `glac_massbaltotal_monthly`) simulations are aggregated in 1000-glacier chunks to keep file sizes manageable.\n",
    ">\n",
    ">The cell above will aggregate all available variables for the specified batch of simulations. The `-vars` argument of PyGEMs *compile_simulations.py* script shows the variables which can can be aggregated across simulations. However, some of these are not standard outputs and are only stored when *run_simulations.py* is passed the `-export_extra_vars` flag, or when `['sim']['out']['export_extra_vars']` is set to `true` in *~/PyGEM/config.yaml*. If the variables desired to be aggregated are not specified, *compile_simulations.py* will default to aggregating all available variables which were stored across simulations.\n",
    ">\n",
    ">If only specific variables are required, these could have been passed as arguments (space-delimited), e.g. for compiling glacier mass, area, and runoff:\n",
    "\n",
    "\n",
    "```bash\n",
    "!compile_simulations -rgi_region01 {region} -gcm_name {gcm} -scenario {scenario} -gcm_startyear {startyr} -gcm_endyear {endyr} -option_calibration {calib} -vars glac_mass_monthly glac_area_annual glac_runoff_monthly\n",
    "```"
   ]
  },
  {
   "cell_type": "markdown",
   "metadata": {},
   "source": [
    "## Regional analysis\n",
    "\n",
    "Regional analysis can now be completed for the variables of interest.  Below we'll demonstate an analysis of regional glacier area, mass, and runoff."
   ]
  }
 ],
 "metadata": {
  "kernelspec": {
   "display_name": "pygem",
   "language": "python",
   "name": "python3"
  },
  "language_info": {
   "codemirror_mode": {
    "name": "ipython",
    "version": 3
   },
   "file_extension": ".py",
   "mimetype": "text/x-python",
   "name": "python",
   "nbconvert_exporter": "python",
   "pygments_lexer": "ipython3",
   "version": "3.12.7"
  }
 },
 "nbformat": 4,
 "nbformat_minor": 4
}
