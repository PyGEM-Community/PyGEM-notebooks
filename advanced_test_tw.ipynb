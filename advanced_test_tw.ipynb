{
 "cells": [
  {
   "cell_type": "markdown",
   "metadata": {},
   "source": [
    "# PyGEM Advanced Test - Tidewater Glaciers"
   ]
  },
  {
   "cell_type": "markdown",
   "metadata": {},
   "source": [
    "Brandon Tober, David Rounce<br>\n",
    "Carnegie Mellon University<br>\n",
    "Created: 17JAN2025<br> <br>\n",
    "Objective: build on the [*advanced_test.ipynb*](https://github.com/PyGEM-Community/PyGEM-notebooks/blob/main/advanced_test.ipynb) demonstration and go over testing the calibration of the frontal ablation parameterization. If you have yet to do so, we suggest going through the advanced test notebook in full before proceeding.<br>\n",
    "\n",
    "Note that in a typical regional modeling workflow, the ice viscocity (“Glen A”) model parameter would already be calibrated for the land-terminating glaciers such that the modeled ice volume roughly matches the ice volume estimates (see [run_calibration_icethickness](https://pygem.readthedocs.io/en/latest/run_calibration_icethickness_overview.html#run-calibration-icethickness-overview-target)). Here, we have already provided you with output files, which include this calibration.<br>\n",
    "\n",
    "This demonstration utilizes PyGEM's *sample_data_tw* for LeConte Glacier (RGI60-01.03622), which should have been downloaded during model installation and setup (see [here](https://pygem.readthedocs.io/en/latest/install_pygem.html)), but can also be downloaded directly [here](https://drive.google.com/file/d/1Wu4ZqpOKxnc4EYhcRHQbwGq95FoOxMfZ/view?usp=drive_link).<br>"
   ]
  },
  {
   "cell_type": "markdown",
   "metadata": {},
   "source": [
    "> **📝 Note:**<br>\n",
    "> In this notebook, any PyGEM Python scripts that are called will be preceeded by ```!```. In Jupyter Notebook, the ```!``` character is used to execute shell commands directly from a notebook cell. When you prefix a command with ```!```, Jupyter sends it to the system's command-line shell for execution, instead of interpreting it as Python code. Command-line arguments are also bracketed (e.g., ```{arg}```), when passing Python variables to a command-line shell from within a Jupyter Notebook. If executing a given PyGEM script directly from one's terminal, remove the ```!``` character and brackets ```{}``` around arguments.\n",
    ">"
   ]
  },
  {
   "cell_type": "markdown",
   "metadata": {},
   "source": [
    "> **⚠️ Warning:**<br>\n",
    "> Ensure that the `root` parameter in the PyGEM configuration file points to the correct path for the sample dataset (should end in */sample_data_tw/*, not */sample_data/* as was the case for [*simple_test.ipynb*](https://github.com/PyGEM-Community/PyGEM-notebooks/blob/main/simple_test.ipynb) and [*advanced_test.ipynb*](https://github.com/PyGEM-Community/PyGEM-notebooks/blob/main/advanced_test.ipynb)). Modify the `root` parameter in ~/PyGEM/config.yaml with the text editor of your choice so that the to point to wherever the appropriate sample dataset is located on your computer."
   ]
  },
  {
   "cell_type": "code",
   "execution_count": 1,
   "metadata": {},
   "outputs": [],
   "source": [
    "### imports ###\n",
    "import os, sys, glob, json\n",
    "from IPython.display import Image, display\n",
    "# pygem imports\n",
    "from pygem.setup.config import ConfigManager\n",
    "# instantiate ConfigManager\n",
    "config_manager = ConfigManager()\n",
    "# read the config\n",
    "pygem_prms = config_manager.read_config()   # NOTE: ensure that your root path in ~/PyGEM/config.yaml points to\n",
    "                                            # the appropriate location. If any errors occur, check this first.\n",
    "# get root path\n",
    "rootpath = pygem_prms[\"root\"]\n",
    "# reduce oggm logging level to keep notebook clean\n",
    "config_manager.update_config(updates={'oggm.logging_level' : 'CRITICAL'})"
   ]
  },
  {
   "cell_type": "code",
   "execution_count": 2,
   "metadata": {},
   "outputs": [],
   "source": [
    "# update path if needed - need to point to tidewater sample dataset\n",
    "head, tail = os.path.split(rootpath)\n",
    "if tail == 'sample_data':\n",
    "    rootpath = os.path.join(head, 'sample_data_tw/')\n",
    "    config_manager.update_config(updates={'root' : rootpath})"
   ]
  },
  {
   "cell_type": "markdown",
   "metadata": {},
   "source": [
    "Proceeding with the simple test, the following steps will be completed:\n",
    "1. Frontal Ablation Calibration\n",
    "2. Bayesian inference (MCMC) calibration\n",
    "3. MCMC future simulation"
   ]
  },
  {
   "cell_type": "code",
   "execution_count": 3,
   "metadata": {},
   "outputs": [],
   "source": [
    "# define glacier number of interest - LeConte \n",
    "glac_no = 1.03622"
   ]
  },
  {
   "cell_type": "markdown",
   "metadata": {},
   "source": [
    "## Frontal Ablation Calibration\n",
    "\n",
    "Calibrate the frontal ablation paremeterization against observations. The following parameters should either be set within your configuration file, or passed to the *run_calibration* script as command line arguments:\n",
    "<pre>\n",
    "glac_no =                   1.03622\n",
    "ref_startyear =             2000\n",
    "ref_endyear =               2019\n",
    "option_calibration =        emulator\n",
    "include_frontalablation =   false\n",
    "</pre>"
   ]
  },
  {
   "cell_type": "markdown",
   "metadata": {},
   "source": [
    "> **📝 Note:**  \n",
    "> It may feel counterintuitive to set `include_frontalablation = false`; however, this is needed in the initial steps to avoid circularity issues."
   ]
  },
  {
   "cell_type": "code",
   "execution_count": 4,
   "metadata": {},
   "outputs": [],
   "source": [
    "# update the include_frontalablation key as described above\n",
    "config_manager.update_config(updates={'setup.include_frontalablation' : False})"
   ]
  },
  {
   "cell_type": "code",
   "execution_count": 5,
   "metadata": {},
   "outputs": [
    {
     "name": "stdout",
     "output_type": "stream",
     "text": [
      "Processing: ERA5\n",
      "1 glaciers in region 1 are included in this model run: ['03622']\n",
      "This study is focusing on 1 glaciers in region [1]\n",
      "ERA5 : RGI60-01.03622\n",
      "Total processing time: 8.023874044418335 s\n"
     ]
    }
   ],
   "source": [
    "# passing the above parameters as command line arguments:\n",
    "!run_calibration -rgi_glac_number {glac_no} -ref_startyear 2000 -ref_endyear 2019 -option_calibration emulator"
   ]
  },
  {
   "cell_type": "markdown",
   "metadata": {},
   "source": [
    "If successful, the script will run without errors and the following datasets will be generated:\n",
    "\n",
    "* *~/sample_data_tw/Output/calibration/01/1.03622-modelprms_dict.pkl*<br>\n",
    "* *~/sample_data_tw/Output/emulator/sims/01/1.03622-100_emulator_sims.csv*<br>\n",
    "* *~/sample_data_tw/Output/emulator/models/01/1.03622-emulator-mb_mwea.pth*<br>\n",
    "* *~/sample_data_tw/Output/emulator/models/01/1.03622-emulator-mb_mwea_extra.pkl*<br>\n",
    "* *~/sample_data_tw/oggm_gdirs/per_glacier/RGI60-01/RGI60-01.03/RGI60-01.03622/*<br>\n",
    "\n",
    "These contain the calibration data, simulations used to create the emulator, and information needed to recreate the emulator. The glacier directory (oggm_gdirs) with relevant glacier information is created automatically as well."
   ]
  },
  {
   "cell_type": "code",
   "execution_count": 6,
   "metadata": {},
   "outputs": [
    {
     "name": "stdout",
     "output_type": "stream",
     "text": [
      "\u001b[01;34m/Users/btober/PyGEM/sample_data/sample_data_tw//Output/\u001b[0m\n",
      "m── \u001b[01;34mcalibration\u001b[0\n",
      "│   ├── \u001b[01;34m01\u001b[0m\n",
      "│   │   └── \u001b[00m1.03622-modelprms_dict.json\u001b[0m\n",
      "�   ├── \u001b[00mglena_region.csv\u001b[0m\n",
      "│   └── \u001b[00mpriors_region.csv\u001b[0m\n",
      "1;34memulator\u001b[0m\n",
      "    ├── \u001b[01;34mmodels\u001b[0m\n",
      "    │   └── \u001b[01;34m01\u001b[0m\n",
      "    ├── \u001b[00m1.03622-emulator-mb_mwea.pth\u001b[0m\n",
      "mb_mwea_extra.json\u001b[0m.03622-emulator-\n",
      "    └── \u001b[01;34msims\u001b[0m\n",
      "        └── \u001b[01;34m01\u001b[0m\n",
      "��── \u001b[00m1.03622-100_emulator_sims.csv\u001b[0m\n",
      "\n",
      "8 directories, 6 files\n"
     ]
    }
   ],
   "source": [
    "%%bash -s \"$rootpath\"\n",
    "tree -I '.DS_Store' $1/Output/"
   ]
  },
  {
   "cell_type": "markdown",
   "metadata": {},
   "source": [
    "Next, run the frontal ablation calibration. Restore the frontal ablation swtich to `true` in the configuration file.<br>\n",
    "\n",
    "<pre>\n",
    "include_frontalablation =   true\n",
    "</pre>"
   ]
  },
  {
   "cell_type": "code",
   "execution_count": 7,
   "metadata": {},
   "outputs": [],
   "source": [
    "# update the include_frontalablation key as described above\n",
    "config_manager.update_config(updates={'setup.include_frontalablation' : True})"
   ]
  },
  {
   "cell_type": "markdown",
   "metadata": {},
   "source": [
    "\n",
    "What are the available arguments for the *run_calibration_frontalablation* script?"
   ]
  },
  {
   "cell_type": "code",
   "execution_count": 8,
   "metadata": {},
   "outputs": [
    {
     "name": "stdout",
     "output_type": "stream",
     "text": [
      "2025-03-02 17:59:01: oggm.cfg: Reading default parameters from the OGGM `params.cfg` configuration file.\n",
      "2025-03-02 17:59:01: oggm.cfg: Multiprocessing switched OFF according to the parameter file.\n",
      "2025-03-02 17:59:01: oggm.cfg: Multiprocessing: using all available processors (N=10)\n",
      "usage: run_calibration_frontalablation [-h]\n",
      "                                       [-rgi_region01 RGI_REGION01 [RGI_REGION01 ...]]\n",
      "                                       [-ref_gcm_name REF_GCM_NAME]\n",
      "                                       [-ref_startyear REF_STARTYEAR]\n",
      "                                       [-ref_endyear REF_ENDYEAR]\n",
      "                                       [-hugonnet2021_fn HUGONNET2021_FN]\n",
      "                                       [-hugonnet2021_facorrected_fn HUGONNET2021_FACORRECTED_FN]\n",
      "                                       [-ncores NCORES]\n",
      "                                       [-prms_from_reg_priors] [-o] [-v]\n",
      "\n",
      "Calibrate frontal ablation against reference calving datasets and update the\n",
      "reference mass balance data accordingly\n",
      "\n",
      "options:\n",
      "  -h, --help            show this help message and exit\n",
      "  -rgi_region01 RGI_REGION01 [RGI_REGION01 ...]\n",
      "                        Randoph Glacier Inventory region (can take multiple,\n",
      "                        e.g. `-run_region01 1 2 3`)\n",
      "  -ref_gcm_name REF_GCM_NAME\n",
      "                        reference gcm name\n",
      "  -ref_startyear REF_STARTYEAR\n",
      "                        reference period starting year for calibration\n",
      "                        (typically 2000)\n",
      "  -ref_endyear REF_ENDYEAR\n",
      "                        reference period ending year for calibration\n",
      "                        (typically 2019)\n",
      "  -hugonnet2021_fn HUGONNET2021_FN\n",
      "                        reference mass balance data file name (default:\n",
      "                        df_pergla_global_20yr-filled.csv)\n",
      "  -hugonnet2021_facorrected_fn HUGONNET2021_FACORRECTED_FN\n",
      "                        reference mass balance data file name (default:\n",
      "                        df_pergla_global_20yr-filled.csv)\n",
      "  -ncores NCORES        number of simultaneous processes (cores) to use,\n",
      "                        defualt is 1, ie. no parallelization\n",
      "  -prms_from_reg_priors\n",
      "                        Take model parameters from regional priors (default\n",
      "                        False and use calibrated glacier parameters)\n",
      "  -o, --overwrite       Flag to overwrite existing calibrated frontal ablation\n",
      "                        datasets\n",
      "  -v, --verbose         Flag for verbose\n"
     ]
    }
   ],
   "source": [
    "!run_calibration_frontalablation -h"
   ]
  },
  {
   "cell_type": "markdown",
   "metadata": {},
   "source": [
    "Since we are dealing with an test glacier from Alaska, we'll pass the appropriate region as a command line argument. We can leave the defaults for most of the available arguements (e.g. `hugonnet2021_fn`, `hugonnet2021_facorrected_fn`, `prms_from_reg_priors`). We'll just pass the most critical ones (this is likely redundant, as several of these parameters are likely set identically in your configuration file)."
   ]
  },
  {
   "cell_type": "code",
   "execution_count": 9,
   "metadata": {},
   "outputs": [
    {
     "name": "stdout",
     "output_type": "stream",
     "text": [
      "2025-03-02 17:59:03: oggm.cfg: Reading default parameters from the OGGM `params.cfg` configuration file.\n",
      "2025-03-02 17:59:03: oggm.cfg: Multiprocessing switched OFF according to the parameter file.\n",
      "2025-03-02 17:59:03: oggm.cfg: Multiprocessing: using all available processors (N=10)\n",
      "2025-03-02 17:59:04: oggm.cfg: Reading default parameters from the OGGM `params.cfg` configuration file.\n",
      "2025-03-02 17:59:04: oggm.cfg: Multiprocessing switched OFF according to the parameter file.\n",
      "2025-03-02 17:59:04: oggm.cfg: Multiprocessing: using all available processors (N=10)\n",
      "1 glaciers in region 1 are included in this model run: ['03622']\n",
      "This study is focusing on 1 glaciers in region [1]\n",
      "This study is focusing on 1 glaciers in region [1]\n",
      "2025-03-02 17:59:18: oggm.cfg: Reading default parameters from the OGGM `params.cfg` configuration file.\n",
      "2025-03-02 17:59:18: oggm.cfg: Multiprocessing switched OFF according to the parameter file.\n",
      "2025-03-02 17:59:18: oggm.cfg: Multiprocessing: using all available processors (N=10)\n"
     ]
    }
   ],
   "source": [
    "# passing the above parameters as command line arguments:\n",
    "!run_calibration_frontalablation -rgi_region01 1 -ref_startyear 2000 -ref_endyear 2019"
   ]
  },
  {
   "cell_type": "markdown",
   "metadata": {},
   "source": [
    "If successful, the script will run without errors and the following datasets will be generated:\n",
    "\n",
    "* *~/sample_data_tw/frontalablation_data/analysis/1-frontalablation_cal_ind.csv*\n",
    "* *~/sample_data_tw/frontalablation_data/analysis/all-frontalablation_cal_ind.csv*\n",
    "\n",
    "The *all-calving_cal_ind* data simply merges all the different regions together, which is essentially pointless for a single glacier test, but useful to get into good workflow habits.\n",
    "\n",
    "Additionally we should find a frontal ablation corrected reference mass balance dataset:\n",
    "\n",
    "* *~/sample_data_tw/DEMs/Hugonnet2021/df_pergla_global_20yr-filled-frontalablation-corrected.csv*"
   ]
  },
  {
   "cell_type": "markdown",
   "metadata": {},
   "source": [
    "The frontal ablation corrected mass balance should also now appear within the *mb_calib_pygem.json* file within the glacier directory."
   ]
  },
  {
   "cell_type": "code",
   "execution_count": 10,
   "metadata": {},
   "outputs": [
    {
     "name": "stdout",
     "output_type": "stream",
     "text": [
      "{'mb_mwea': -1.0383625135276695, 'mb_mwea_err': 0.0965, 'mb_clim_mwea': -1.0373, 'mb_clim_mwea_err': 0.0965, 't1_str': '2000-01-01', 't2_str': '2020-01-01', 'nyears': 20.0}\n"
     ]
    }
   ],
   "source": [
    "# check the output - the parameter dictionary output should now have an `HH2015` key\n",
    "glacier_str = str(glac_no)\n",
    "reg = glacier_str.split('.')[0].zfill(2)\n",
    "calib_path = f\"{rootpath}/oggm_gdirs/per_glacier/RGI60-01/RGI60-01.03/RGI60-01.03622/mb_calib_pygem.json\"\n",
    "with open(calib_path, 'r') as f:\n",
    "    mb_calib = json.load(f)\n",
    "print(mb_calib)"
   ]
  },
  {
   "cell_type": "markdown",
   "metadata": {},
   "source": [
    "Now that we have updated mass balance (accounting for frontal ablation), we must recalibrate model parameters. This involves re-running the model calibration to develop an emulator with `include_frontalablation = True`. No parameters should need to be changed in the configuration file at this point, but for sake of clarity, we will run the calibration script with the following settings:\n",
    "<pre>\n",
    "glac_no =                   1.03622\n",
    "ref_startyear =             2000\n",
    "ref_endyear =               2019\n",
    "option_calibration =        emulator\n",
    "include_frontalablation =   true\n",
    "</pre>"
   ]
  },
  {
   "cell_type": "code",
   "execution_count": 11,
   "metadata": {},
   "outputs": [
    {
     "name": "stdout",
     "output_type": "stream",
     "text": [
      "Processing: ERA5\n",
      "1 glaciers in region 1 are included in this model run: ['03622']\n",
      "This study is focusing on 1 glaciers in region [1]\n",
      "ERA5 : RGI60-01.03622\n",
      "Total processing time: 7.633209705352783 s\n"
     ]
    }
   ],
   "source": [
    "# passing the above parameters as command line arguments:\n",
    "!run_calibration -rgi_glac_number {glac_no} -ref_startyear 2000 -ref_endyear 2019 -option_calibration emulator "
   ]
  },
  {
   "cell_type": "markdown",
   "metadata": {},
   "source": [
    "## MCMC calibration\n",
    "\n",
    "As was done in the [*advanced_test.ipynb*](https://github.com/PyGEM-Community/PyGEM-notebooks/blob/main/advanced_test.ipynb) notebook, we will now perform Bayesian inference MCMC model calibration.\n",
    "\n",
    "The only updated parameter from previous call of *run_calibration* is the calibration option:\n",
    "<pre>\n",
    "option_calibration =  MCMC\n",
    "</pre>"
   ]
  },
  {
   "cell_type": "code",
   "execution_count": 12,
   "metadata": {},
   "outputs": [
    {
     "name": "stdout",
     "output_type": "stream",
     "text": [
      "Processing: ERA5\n",
      "1 glaciers in region 1 are included in this model run: ['03622']\n",
      "This study is focusing on 1 glaciers in region [1]\n",
      "ERA5 : RGI60-01.03622\n",
      "20010it [00:14, 1364.74it/s]                                                    \n",
      "Total processing time: 14.992985248565674 s\n"
     ]
    }
   ],
   "source": [
    "# passing the above parameters as command line arguments:\n",
    "!run_calibration -rgi_glac_number {glac_no} -ref_startyear 2000 -ref_endyear 2019 -option_calibration MCMC  -p # `-v` == vervose (will generate some diagnostic plots) and `-p` == progress bar"
   ]
  },
  {
   "cell_type": "markdown",
   "metadata": {},
   "source": [
    "## MCMC simulations\n",
    "\n",
    "You are now ready to run an MCMC simulation. We will run a 50-simulation MCMC model run from 2000-2100 under the CESM2 climate model, shared socioeconomic pathway (SSP) 2-4.5:\n",
    "\n",
    "<pre>\n",
    "glac_no =                   1.03622\n",
    "gcm_name =                  CESM2\n",
    "scenario =                  ssp245\n",
    "gcm_startyear =             2000\n",
    "gcm_endyear =               2100\n",
    "option_calibration =        MCMC\n",
    "nsims =                     50\n",
    "option_dynamics =           OGGM\n",
    "use_reg_glena =             false     \n",
    "include_frontalablation =   true\n",
    "</pre>\n"
   ]
  },
  {
   "cell_type": "code",
   "execution_count": 13,
   "metadata": {},
   "outputs": [
    {
     "name": "stdout",
     "output_type": "stream",
     "text": [
      "2025-03-02 17:59:48: oggm.cfg: Reading default parameters from the OGGM `params.cfg` configuration file.\n",
      "2025-03-02 17:59:48: oggm.cfg: Multiprocessing switched OFF according to the parameter file.\n",
      "2025-03-02 17:59:48: oggm.cfg: Multiprocessing: using all available processors (N=10)\n",
      "2025-03-02 17:59:49: oggm.cfg: PARAMS['hydro_month_nh'] changed from `10` to `1`.\n",
      "2025-03-02 17:59:49: oggm.cfg: PARAMS['hydro_month_sh'] changed from `4` to `1`.\n",
      "2025-03-02 17:59:49: oggm.cfg: PARAMS['trapezoid_lambdas'] changed from `2.0` to `1`.\n",
      "Processing: CESM2 ssp245\n",
      "Processing with 1 cores...\n",
      "1 glaciers in region 1 are included in this model run: ['03622']\n",
      "This study is focusing on 1 glaciers in region [1]\n",
      "CESM2 : RGI60-01.03622\n",
      "Total processing time: 21.023699045181274 s\n"
     ]
    }
   ],
   "source": [
    "# passing the above parameters as command line arguments:\n",
    "gcm_name = 'CESM2'\n",
    "scenario = 'ssp245'\n",
    "!run_simulation -rgi_glac_number {glac_no} -gcm_name {gcm_name} -scenario {scenario} -gcm_startyear 2000 -gcm_endyear 2100 -option_calibration MCMC -nsims 50 -option_dynamics OGGM -use_reg_glena False"
   ]
  },
  {
   "cell_type": "markdown",
   "metadata": {},
   "source": [
    "If successful, we should see the following simulation dataset:"
   ]
  },
  {
   "cell_type": "code",
   "execution_count": 14,
   "metadata": {},
   "outputs": [
    {
     "name": "stdout",
     "output_type": "stream",
     "text": [
      "-rw-r--r--@ 1 btober  staff   110K Mar  2 18:00 /Users/btober/PyGEM/sample_data/sample_data_tw//Output/simulations/01/CESM2/ssp245/stats/1.03622_CESM2_ssp245_MCMC_ba1_50sets_2000_2100_all.nc\n"
     ]
    }
   ],
   "source": [
    "%%bash -s \"$rootpath\" \"$reg\" \"$gcm_name\" \"$scenario\"\n",
    "ls -lah $1/Output/simulations/$2/$3/$4/stats/*50sets*.nc"
   ]
  },
  {
   "cell_type": "markdown",
   "metadata": {},
   "source": [
    "## Plot\n",
    "\n",
    "Visualize the model output. First use xarray to load the netcdf file shown above."
   ]
  },
  {
   "cell_type": "code",
   "execution_count": 15,
   "metadata": {},
   "outputs": [
    {
     "data": {
      "text/html": [
       "<div><svg style=\"position: absolute; width: 0; height: 0; overflow: hidden\">\n",
       "<defs>\n",
       "<symbol id=\"icon-database\" viewBox=\"0 0 32 32\">\n",
       "<path d=\"M16 0c-8.837 0-16 2.239-16 5v4c0 2.761 7.163 5 16 5s16-2.239 16-5v-4c0-2.761-7.163-5-16-5z\"></path>\n",
       "<path d=\"M16 17c-8.837 0-16-2.239-16-5v6c0 2.761 7.163 5 16 5s16-2.239 16-5v-6c0 2.761-7.163 5-16 5z\"></path>\n",
       "<path d=\"M16 26c-8.837 0-16-2.239-16-5v6c0 2.761 7.163 5 16 5s16-2.239 16-5v-6c0 2.761-7.163 5-16 5z\"></path>\n",
       "</symbol>\n",
       "<symbol id=\"icon-file-text2\" viewBox=\"0 0 32 32\">\n",
       "<path d=\"M28.681 7.159c-0.694-0.947-1.662-2.053-2.724-3.116s-2.169-2.030-3.116-2.724c-1.612-1.182-2.393-1.319-2.841-1.319h-15.5c-1.378 0-2.5 1.121-2.5 2.5v27c0 1.378 1.122 2.5 2.5 2.5h23c1.378 0 2.5-1.122 2.5-2.5v-19.5c0-0.448-0.137-1.23-1.319-2.841zM24.543 5.457c0.959 0.959 1.712 1.825 2.268 2.543h-4.811v-4.811c0.718 0.556 1.584 1.309 2.543 2.268zM28 29.5c0 0.271-0.229 0.5-0.5 0.5h-23c-0.271 0-0.5-0.229-0.5-0.5v-27c0-0.271 0.229-0.5 0.5-0.5 0 0 15.499-0 15.5 0v7c0 0.552 0.448 1 1 1h7v19.5z\"></path>\n",
       "<path d=\"M23 26h-14c-0.552 0-1-0.448-1-1s0.448-1 1-1h14c0.552 0 1 0.448 1 1s-0.448 1-1 1z\"></path>\n",
       "<path d=\"M23 22h-14c-0.552 0-1-0.448-1-1s0.448-1 1-1h14c0.552 0 1 0.448 1 1s-0.448 1-1 1z\"></path>\n",
       "<path d=\"M23 18h-14c-0.552 0-1-0.448-1-1s0.448-1 1-1h14c0.552 0 1 0.448 1 1s-0.448 1-1 1z\"></path>\n",
       "</symbol>\n",
       "</defs>\n",
       "</svg>\n",
       "<style>/* CSS stylesheet for displaying xarray objects in jupyterlab.\n",
       " *\n",
       " */\n",
       "\n",
       ":root {\n",
       "  --xr-font-color0: var(--jp-content-font-color0, rgba(0, 0, 0, 1));\n",
       "  --xr-font-color2: var(--jp-content-font-color2, rgba(0, 0, 0, 0.54));\n",
       "  --xr-font-color3: var(--jp-content-font-color3, rgba(0, 0, 0, 0.38));\n",
       "  --xr-border-color: var(--jp-border-color2, #e0e0e0);\n",
       "  --xr-disabled-color: var(--jp-layout-color3, #bdbdbd);\n",
       "  --xr-background-color: var(--jp-layout-color0, white);\n",
       "  --xr-background-color-row-even: var(--jp-layout-color1, white);\n",
       "  --xr-background-color-row-odd: var(--jp-layout-color2, #eeeeee);\n",
       "}\n",
       "\n",
       "html[theme=\"dark\"],\n",
       "html[data-theme=\"dark\"],\n",
       "body[data-theme=\"dark\"],\n",
       "body.vscode-dark {\n",
       "  --xr-font-color0: rgba(255, 255, 255, 1);\n",
       "  --xr-font-color2: rgba(255, 255, 255, 0.54);\n",
       "  --xr-font-color3: rgba(255, 255, 255, 0.38);\n",
       "  --xr-border-color: #1f1f1f;\n",
       "  --xr-disabled-color: #515151;\n",
       "  --xr-background-color: #111111;\n",
       "  --xr-background-color-row-even: #111111;\n",
       "  --xr-background-color-row-odd: #313131;\n",
       "}\n",
       "\n",
       ".xr-wrap {\n",
       "  display: block !important;\n",
       "  min-width: 300px;\n",
       "  max-width: 700px;\n",
       "}\n",
       "\n",
       ".xr-text-repr-fallback {\n",
       "  /* fallback to plain text repr when CSS is not injected (untrusted notebook) */\n",
       "  display: none;\n",
       "}\n",
       "\n",
       ".xr-header {\n",
       "  padding-top: 6px;\n",
       "  padding-bottom: 6px;\n",
       "  margin-bottom: 4px;\n",
       "  border-bottom: solid 1px var(--xr-border-color);\n",
       "}\n",
       "\n",
       ".xr-header > div,\n",
       ".xr-header > ul {\n",
       "  display: inline;\n",
       "  margin-top: 0;\n",
       "  margin-bottom: 0;\n",
       "}\n",
       "\n",
       ".xr-obj-type,\n",
       ".xr-array-name {\n",
       "  margin-left: 2px;\n",
       "  margin-right: 10px;\n",
       "}\n",
       "\n",
       ".xr-obj-type {\n",
       "  color: var(--xr-font-color2);\n",
       "}\n",
       "\n",
       ".xr-sections {\n",
       "  padding-left: 0 !important;\n",
       "  display: grid;\n",
       "  grid-template-columns: 150px auto auto 1fr 0 20px 0 20px;\n",
       "}\n",
       "\n",
       ".xr-section-item {\n",
       "  display: contents;\n",
       "}\n",
       "\n",
       ".xr-section-item input {\n",
       "  display: inline-block;\n",
       "  opacity: 0;\n",
       "  height: 0;\n",
       "}\n",
       "\n",
       ".xr-section-item input + label {\n",
       "  color: var(--xr-disabled-color);\n",
       "}\n",
       "\n",
       ".xr-section-item input:enabled + label {\n",
       "  cursor: pointer;\n",
       "  color: var(--xr-font-color2);\n",
       "}\n",
       "\n",
       ".xr-section-item input:focus + label {\n",
       "  border: 2px solid var(--xr-font-color0);\n",
       "}\n",
       "\n",
       ".xr-section-item input:enabled + label:hover {\n",
       "  color: var(--xr-font-color0);\n",
       "}\n",
       "\n",
       ".xr-section-summary {\n",
       "  grid-column: 1;\n",
       "  color: var(--xr-font-color2);\n",
       "  font-weight: 500;\n",
       "}\n",
       "\n",
       ".xr-section-summary > span {\n",
       "  display: inline-block;\n",
       "  padding-left: 0.5em;\n",
       "}\n",
       "\n",
       ".xr-section-summary-in:disabled + label {\n",
       "  color: var(--xr-font-color2);\n",
       "}\n",
       "\n",
       ".xr-section-summary-in + label:before {\n",
       "  display: inline-block;\n",
       "  content: \"►\";\n",
       "  font-size: 11px;\n",
       "  width: 15px;\n",
       "  text-align: center;\n",
       "}\n",
       "\n",
       ".xr-section-summary-in:disabled + label:before {\n",
       "  color: var(--xr-disabled-color);\n",
       "}\n",
       "\n",
       ".xr-section-summary-in:checked + label:before {\n",
       "  content: \"▼\";\n",
       "}\n",
       "\n",
       ".xr-section-summary-in:checked + label > span {\n",
       "  display: none;\n",
       "}\n",
       "\n",
       ".xr-section-summary,\n",
       ".xr-section-inline-details {\n",
       "  padding-top: 4px;\n",
       "  padding-bottom: 4px;\n",
       "}\n",
       "\n",
       ".xr-section-inline-details {\n",
       "  grid-column: 2 / -1;\n",
       "}\n",
       "\n",
       ".xr-section-details {\n",
       "  display: none;\n",
       "  grid-column: 1 / -1;\n",
       "  margin-bottom: 5px;\n",
       "}\n",
       "\n",
       ".xr-section-summary-in:checked ~ .xr-section-details {\n",
       "  display: contents;\n",
       "}\n",
       "\n",
       ".xr-array-wrap {\n",
       "  grid-column: 1 / -1;\n",
       "  display: grid;\n",
       "  grid-template-columns: 20px auto;\n",
       "}\n",
       "\n",
       ".xr-array-wrap > label {\n",
       "  grid-column: 1;\n",
       "  vertical-align: top;\n",
       "}\n",
       "\n",
       ".xr-preview {\n",
       "  color: var(--xr-font-color3);\n",
       "}\n",
       "\n",
       ".xr-array-preview,\n",
       ".xr-array-data {\n",
       "  padding: 0 5px !important;\n",
       "  grid-column: 2;\n",
       "}\n",
       "\n",
       ".xr-array-data,\n",
       ".xr-array-in:checked ~ .xr-array-preview {\n",
       "  display: none;\n",
       "}\n",
       "\n",
       ".xr-array-in:checked ~ .xr-array-data,\n",
       ".xr-array-preview {\n",
       "  display: inline-block;\n",
       "}\n",
       "\n",
       ".xr-dim-list {\n",
       "  display: inline-block !important;\n",
       "  list-style: none;\n",
       "  padding: 0 !important;\n",
       "  margin: 0;\n",
       "}\n",
       "\n",
       ".xr-dim-list li {\n",
       "  display: inline-block;\n",
       "  padding: 0;\n",
       "  margin: 0;\n",
       "}\n",
       "\n",
       ".xr-dim-list:before {\n",
       "  content: \"(\";\n",
       "}\n",
       "\n",
       ".xr-dim-list:after {\n",
       "  content: \")\";\n",
       "}\n",
       "\n",
       ".xr-dim-list li:not(:last-child):after {\n",
       "  content: \",\";\n",
       "  padding-right: 5px;\n",
       "}\n",
       "\n",
       ".xr-has-index {\n",
       "  font-weight: bold;\n",
       "}\n",
       "\n",
       ".xr-var-list,\n",
       ".xr-var-item {\n",
       "  display: contents;\n",
       "}\n",
       "\n",
       ".xr-var-item > div,\n",
       ".xr-var-item label,\n",
       ".xr-var-item > .xr-var-name span {\n",
       "  background-color: var(--xr-background-color-row-even);\n",
       "  margin-bottom: 0;\n",
       "}\n",
       "\n",
       ".xr-var-item > .xr-var-name:hover span {\n",
       "  padding-right: 5px;\n",
       "}\n",
       "\n",
       ".xr-var-list > li:nth-child(odd) > div,\n",
       ".xr-var-list > li:nth-child(odd) > label,\n",
       ".xr-var-list > li:nth-child(odd) > .xr-var-name span {\n",
       "  background-color: var(--xr-background-color-row-odd);\n",
       "}\n",
       "\n",
       ".xr-var-name {\n",
       "  grid-column: 1;\n",
       "}\n",
       "\n",
       ".xr-var-dims {\n",
       "  grid-column: 2;\n",
       "}\n",
       "\n",
       ".xr-var-dtype {\n",
       "  grid-column: 3;\n",
       "  text-align: right;\n",
       "  color: var(--xr-font-color2);\n",
       "}\n",
       "\n",
       ".xr-var-preview {\n",
       "  grid-column: 4;\n",
       "}\n",
       "\n",
       ".xr-index-preview {\n",
       "  grid-column: 2 / 5;\n",
       "  color: var(--xr-font-color2);\n",
       "}\n",
       "\n",
       ".xr-var-name,\n",
       ".xr-var-dims,\n",
       ".xr-var-dtype,\n",
       ".xr-preview,\n",
       ".xr-attrs dt {\n",
       "  white-space: nowrap;\n",
       "  overflow: hidden;\n",
       "  text-overflow: ellipsis;\n",
       "  padding-right: 10px;\n",
       "}\n",
       "\n",
       ".xr-var-name:hover,\n",
       ".xr-var-dims:hover,\n",
       ".xr-var-dtype:hover,\n",
       ".xr-attrs dt:hover {\n",
       "  overflow: visible;\n",
       "  width: auto;\n",
       "  z-index: 1;\n",
       "}\n",
       "\n",
       ".xr-var-attrs,\n",
       ".xr-var-data,\n",
       ".xr-index-data {\n",
       "  display: none;\n",
       "  background-color: var(--xr-background-color) !important;\n",
       "  padding-bottom: 5px !important;\n",
       "}\n",
       "\n",
       ".xr-var-attrs-in:checked ~ .xr-var-attrs,\n",
       ".xr-var-data-in:checked ~ .xr-var-data,\n",
       ".xr-index-data-in:checked ~ .xr-index-data {\n",
       "  display: block;\n",
       "}\n",
       "\n",
       ".xr-var-data > table {\n",
       "  float: right;\n",
       "}\n",
       "\n",
       ".xr-var-name span,\n",
       ".xr-var-data,\n",
       ".xr-index-name div,\n",
       ".xr-index-data,\n",
       ".xr-attrs {\n",
       "  padding-left: 25px !important;\n",
       "}\n",
       "\n",
       ".xr-attrs,\n",
       ".xr-var-attrs,\n",
       ".xr-var-data,\n",
       ".xr-index-data {\n",
       "  grid-column: 1 / -1;\n",
       "}\n",
       "\n",
       "dl.xr-attrs {\n",
       "  padding: 0;\n",
       "  margin: 0;\n",
       "  display: grid;\n",
       "  grid-template-columns: 125px auto;\n",
       "}\n",
       "\n",
       ".xr-attrs dt,\n",
       ".xr-attrs dd {\n",
       "  padding: 0;\n",
       "  margin: 0;\n",
       "  float: left;\n",
       "  padding-right: 10px;\n",
       "  width: auto;\n",
       "}\n",
       "\n",
       ".xr-attrs dt {\n",
       "  font-weight: normal;\n",
       "  grid-column: 1;\n",
       "}\n",
       "\n",
       ".xr-attrs dt:hover span {\n",
       "  display: inline-block;\n",
       "  background: var(--xr-background-color);\n",
       "  padding-right: 10px;\n",
       "}\n",
       "\n",
       ".xr-attrs dd {\n",
       "  grid-column: 2;\n",
       "  white-space: pre-wrap;\n",
       "  word-break: break-all;\n",
       "}\n",
       "\n",
       ".xr-icon-database,\n",
       ".xr-icon-file-text2,\n",
       ".xr-no-icon {\n",
       "  display: inline-block;\n",
       "  vertical-align: middle;\n",
       "  width: 1em;\n",
       "  height: 1.5em !important;\n",
       "  stroke-width: 0;\n",
       "  stroke: currentColor;\n",
       "  fill: currentColor;\n",
       "}\n",
       "</style><pre class='xr-text-repr-fallback'>&lt;xarray.Dataset&gt; Size: 56kB\n",
       "Dimensions:                     (glac: 1, time: 1212, year: 102)\n",
       "Coordinates:\n",
       "  * glac                        (glac) int64 8B 0\n",
       "  * time                        (time) object 10kB 2000-01-01 00:00:00 ... 21...\n",
       "  * year                        (year) int64 816B 2000 2001 2002 ... 2100 2101\n",
       "Data variables: (12/18)\n",
       "    RGIId                       (glac) &lt;U14 56B ...\n",
       "    CenLon                      (glac) float64 8B ...\n",
       "    CenLat                      (glac) float64 8B ...\n",
       "    O1Region                    (glac) int64 8B ...\n",
       "    O2Region                    (glac) int64 8B ...\n",
       "    Area                        (glac) float64 8B ...\n",
       "    ...                          ...\n",
       "    glac_runoff_monthly_mad     (glac, time) float64 10kB ...\n",
       "    glac_area_annual_mad        (glac, year) float64 816B ...\n",
       "    glac_mass_annual_mad        (glac, year) float64 816B ...\n",
       "    glac_mass_bsl_annual_mad    (glac, year) float64 816B ...\n",
       "    glac_ELA_annual_mad         (glac, year) float64 816B ...\n",
       "    offglac_runoff_monthly_mad  (glac, time) float64 10kB ...\n",
       "Attributes:\n",
       "    source:            PyGEMv1.0.1\n",
       "    institution:       Carnegie Mellon University, Pittsburgh PA\n",
       "    history:           Created by David Rounce (drounce@cmu.edu) on 2025-03-02\n",
       "    references:        doi:10.1126/science.abo1324\n",
       "    model_parameters:  {&quot;ref_startyear&quot;: 2000, &quot;ref_endyear&quot;: 2019, &quot;gcm_star...</pre><div class='xr-wrap' style='display:none'><div class='xr-header'><div class='xr-obj-type'>xarray.Dataset</div></div><ul class='xr-sections'><li class='xr-section-item'><input id='section-c8a415ac-0456-48e1-b249-6706122376c6' class='xr-section-summary-in' type='checkbox' disabled ><label for='section-c8a415ac-0456-48e1-b249-6706122376c6' class='xr-section-summary'  title='Expand/collapse section'>Dimensions:</label><div class='xr-section-inline-details'><ul class='xr-dim-list'><li><span class='xr-has-index'>glac</span>: 1</li><li><span class='xr-has-index'>time</span>: 1212</li><li><span class='xr-has-index'>year</span>: 102</li></ul></div><div class='xr-section-details'></div></li><li class='xr-section-item'><input id='section-107033cf-ac41-4609-9c36-0ba38220f93a' class='xr-section-summary-in' type='checkbox'  checked><label for='section-107033cf-ac41-4609-9c36-0ba38220f93a' class='xr-section-summary' >Coordinates: <span>(3)</span></label><div class='xr-section-inline-details'></div><div class='xr-section-details'><ul class='xr-var-list'><li class='xr-var-item'><div class='xr-var-name'><span class='xr-has-index'>glac</span></div><div class='xr-var-dims'>(glac)</div><div class='xr-var-dtype'>int64</div><div class='xr-var-preview xr-preview'>0</div><input id='attrs-25245f44-e258-4c4a-b25b-49e604efe69b' class='xr-var-attrs-in' type='checkbox' ><label for='attrs-25245f44-e258-4c4a-b25b-49e604efe69b' title='Show/Hide attributes'><svg class='icon xr-icon-file-text2'><use xlink:href='#icon-file-text2'></use></svg></label><input id='data-fa8ca470-c6f7-4127-879c-50667e93cd7d' class='xr-var-data-in' type='checkbox'><label for='data-fa8ca470-c6f7-4127-879c-50667e93cd7d' title='Show/Hide data repr'><svg class='icon xr-icon-database'><use xlink:href='#icon-database'></use></svg></label><div class='xr-var-attrs'><dl class='xr-attrs'><dt><span>long_name :</span></dt><dd>glacier index</dd><dt><span>comment :</span></dt><dd>glacier index referring to glaciers properties and model results</dd></dl></div><div class='xr-var-data'><pre>array([0])</pre></div></li><li class='xr-var-item'><div class='xr-var-name'><span class='xr-has-index'>time</span></div><div class='xr-var-dims'>(time)</div><div class='xr-var-dtype'>object</div><div class='xr-var-preview xr-preview'>2000-01-01 00:00:00 ... 2100-12-...</div><input id='attrs-7077d334-13aa-4ed8-bed5-f030a6d92b1b' class='xr-var-attrs-in' type='checkbox' ><label for='attrs-7077d334-13aa-4ed8-bed5-f030a6d92b1b' title='Show/Hide attributes'><svg class='icon xr-icon-file-text2'><use xlink:href='#icon-file-text2'></use></svg></label><input id='data-16630640-b306-4cfa-95ce-a04692fb0efc' class='xr-var-data-in' type='checkbox'><label for='data-16630640-b306-4cfa-95ce-a04692fb0efc' title='Show/Hide data repr'><svg class='icon xr-icon-database'><use xlink:href='#icon-database'></use></svg></label><div class='xr-var-attrs'><dl class='xr-attrs'><dt><span>long_name :</span></dt><dd>time</dd><dt><span>year_type :</span></dt><dd>calendar year</dd><dt><span>comment :</span></dt><dd>start of the month</dd></dl></div><div class='xr-var-data'><pre>array([cftime.DatetimeNoLeap(2000, 1, 1, 0, 0, 0, 0, has_year_zero=True),\n",
       "       cftime.DatetimeNoLeap(2000, 2, 1, 0, 0, 0, 0, has_year_zero=True),\n",
       "       cftime.DatetimeNoLeap(2000, 3, 1, 0, 0, 0, 0, has_year_zero=True), ...,\n",
       "       cftime.DatetimeNoLeap(2100, 10, 1, 0, 0, 0, 0, has_year_zero=True),\n",
       "       cftime.DatetimeNoLeap(2100, 11, 1, 0, 0, 0, 0, has_year_zero=True),\n",
       "       cftime.DatetimeNoLeap(2100, 12, 1, 0, 0, 0, 0, has_year_zero=True)],\n",
       "      dtype=object)</pre></div></li><li class='xr-var-item'><div class='xr-var-name'><span class='xr-has-index'>year</span></div><div class='xr-var-dims'>(year)</div><div class='xr-var-dtype'>int64</div><div class='xr-var-preview xr-preview'>2000 2001 2002 ... 2099 2100 2101</div><input id='attrs-f09edc32-3b9d-427e-b3a7-9f70a79a80b1' class='xr-var-attrs-in' type='checkbox' ><label for='attrs-f09edc32-3b9d-427e-b3a7-9f70a79a80b1' title='Show/Hide attributes'><svg class='icon xr-icon-file-text2'><use xlink:href='#icon-file-text2'></use></svg></label><input id='data-cb0a9beb-c382-43c1-95a4-2b229ab43453' class='xr-var-data-in' type='checkbox'><label for='data-cb0a9beb-c382-43c1-95a4-2b229ab43453' title='Show/Hide data repr'><svg class='icon xr-icon-database'><use xlink:href='#icon-database'></use></svg></label><div class='xr-var-attrs'><dl class='xr-attrs'><dt><span>long_name :</span></dt><dd>years</dd><dt><span>year_type :</span></dt><dd>calendar year</dd><dt><span>comment :</span></dt><dd>years referring to the start of each year</dd></dl></div><div class='xr-var-data'><pre>array([2000, 2001, 2002, 2003, 2004, 2005, 2006, 2007, 2008, 2009, 2010, 2011,\n",
       "       2012, 2013, 2014, 2015, 2016, 2017, 2018, 2019, 2020, 2021, 2022, 2023,\n",
       "       2024, 2025, 2026, 2027, 2028, 2029, 2030, 2031, 2032, 2033, 2034, 2035,\n",
       "       2036, 2037, 2038, 2039, 2040, 2041, 2042, 2043, 2044, 2045, 2046, 2047,\n",
       "       2048, 2049, 2050, 2051, 2052, 2053, 2054, 2055, 2056, 2057, 2058, 2059,\n",
       "       2060, 2061, 2062, 2063, 2064, 2065, 2066, 2067, 2068, 2069, 2070, 2071,\n",
       "       2072, 2073, 2074, 2075, 2076, 2077, 2078, 2079, 2080, 2081, 2082, 2083,\n",
       "       2084, 2085, 2086, 2087, 2088, 2089, 2090, 2091, 2092, 2093, 2094, 2095,\n",
       "       2096, 2097, 2098, 2099, 2100, 2101])</pre></div></li></ul></div></li><li class='xr-section-item'><input id='section-d616efdf-8ad7-455c-a5fd-75339f6fcb4d' class='xr-section-summary-in' type='checkbox'  ><label for='section-d616efdf-8ad7-455c-a5fd-75339f6fcb4d' class='xr-section-summary' >Data variables: <span>(18)</span></label><div class='xr-section-inline-details'></div><div class='xr-section-details'><ul class='xr-var-list'><li class='xr-var-item'><div class='xr-var-name'><span>RGIId</span></div><div class='xr-var-dims'>(glac)</div><div class='xr-var-dtype'>&lt;U14</div><div class='xr-var-preview xr-preview'>...</div><input id='attrs-df76a447-3ad3-4f06-b76b-35c322d532d7' class='xr-var-attrs-in' type='checkbox' ><label for='attrs-df76a447-3ad3-4f06-b76b-35c322d532d7' title='Show/Hide attributes'><svg class='icon xr-icon-file-text2'><use xlink:href='#icon-file-text2'></use></svg></label><input id='data-9b69c214-9563-4b26-9509-aec765479ce8' class='xr-var-data-in' type='checkbox'><label for='data-9b69c214-9563-4b26-9509-aec765479ce8' title='Show/Hide data repr'><svg class='icon xr-icon-database'><use xlink:href='#icon-database'></use></svg></label><div class='xr-var-attrs'><dl class='xr-attrs'><dt><span>long_name :</span></dt><dd>Randolph Glacier Inventory ID</dd><dt><span>comment :</span></dt><dd>RGIv6.0</dd></dl></div><div class='xr-var-data'><pre>[1 values with dtype=&lt;U14]</pre></div></li><li class='xr-var-item'><div class='xr-var-name'><span>CenLon</span></div><div class='xr-var-dims'>(glac)</div><div class='xr-var-dtype'>float64</div><div class='xr-var-preview xr-preview'>...</div><input id='attrs-a05e3a76-c1f7-4c4a-924e-ae9170579f51' class='xr-var-attrs-in' type='checkbox' ><label for='attrs-a05e3a76-c1f7-4c4a-924e-ae9170579f51' title='Show/Hide attributes'><svg class='icon xr-icon-file-text2'><use xlink:href='#icon-file-text2'></use></svg></label><input id='data-431dd7f9-7847-4c2d-8abb-cd42d8c4a5df' class='xr-var-data-in' type='checkbox'><label for='data-431dd7f9-7847-4c2d-8abb-cd42d8c4a5df' title='Show/Hide data repr'><svg class='icon xr-icon-database'><use xlink:href='#icon-database'></use></svg></label><div class='xr-var-attrs'><dl class='xr-attrs'><dt><span>long_name :</span></dt><dd>center longitude</dd><dt><span>units :</span></dt><dd>degrees E</dd><dt><span>comment :</span></dt><dd>value from RGIv6.0</dd></dl></div><div class='xr-var-data'><pre>[1 values with dtype=float64]</pre></div></li><li class='xr-var-item'><div class='xr-var-name'><span>CenLat</span></div><div class='xr-var-dims'>(glac)</div><div class='xr-var-dtype'>float64</div><div class='xr-var-preview xr-preview'>...</div><input id='attrs-c49f5e65-54d9-4113-9b99-44d39d11d90f' class='xr-var-attrs-in' type='checkbox' ><label for='attrs-c49f5e65-54d9-4113-9b99-44d39d11d90f' title='Show/Hide attributes'><svg class='icon xr-icon-file-text2'><use xlink:href='#icon-file-text2'></use></svg></label><input id='data-fce23239-b67a-4c42-912e-2c70affb73f8' class='xr-var-data-in' type='checkbox'><label for='data-fce23239-b67a-4c42-912e-2c70affb73f8' title='Show/Hide data repr'><svg class='icon xr-icon-database'><use xlink:href='#icon-database'></use></svg></label><div class='xr-var-attrs'><dl class='xr-attrs'><dt><span>long_name :</span></dt><dd>center latitude</dd><dt><span>units :</span></dt><dd>degrees N</dd><dt><span>comment :</span></dt><dd>value from RGIv6.0</dd></dl></div><div class='xr-var-data'><pre>[1 values with dtype=float64]</pre></div></li><li class='xr-var-item'><div class='xr-var-name'><span>O1Region</span></div><div class='xr-var-dims'>(glac)</div><div class='xr-var-dtype'>int64</div><div class='xr-var-preview xr-preview'>...</div><input id='attrs-4cbd958f-2954-49ea-abb2-b84ae9f599fe' class='xr-var-attrs-in' type='checkbox' ><label for='attrs-4cbd958f-2954-49ea-abb2-b84ae9f599fe' title='Show/Hide attributes'><svg class='icon xr-icon-file-text2'><use xlink:href='#icon-file-text2'></use></svg></label><input id='data-39475047-b521-4c44-92e2-0cf099d93dd8' class='xr-var-data-in' type='checkbox'><label for='data-39475047-b521-4c44-92e2-0cf099d93dd8' title='Show/Hide data repr'><svg class='icon xr-icon-database'><use xlink:href='#icon-database'></use></svg></label><div class='xr-var-attrs'><dl class='xr-attrs'><dt><span>long_name :</span></dt><dd>RGI order 1 region</dd><dt><span>comment :</span></dt><dd>value from RGIv6.0</dd></dl></div><div class='xr-var-data'><pre>[1 values with dtype=int64]</pre></div></li><li class='xr-var-item'><div class='xr-var-name'><span>O2Region</span></div><div class='xr-var-dims'>(glac)</div><div class='xr-var-dtype'>int64</div><div class='xr-var-preview xr-preview'>...</div><input id='attrs-3ae077c4-91ea-4780-abb4-70c203d1c450' class='xr-var-attrs-in' type='checkbox' ><label for='attrs-3ae077c4-91ea-4780-abb4-70c203d1c450' title='Show/Hide attributes'><svg class='icon xr-icon-file-text2'><use xlink:href='#icon-file-text2'></use></svg></label><input id='data-13a595c4-d350-49a1-b282-b3d5714bf818' class='xr-var-data-in' type='checkbox'><label for='data-13a595c4-d350-49a1-b282-b3d5714bf818' title='Show/Hide data repr'><svg class='icon xr-icon-database'><use xlink:href='#icon-database'></use></svg></label><div class='xr-var-attrs'><dl class='xr-attrs'><dt><span>long_name :</span></dt><dd>RGI order 2 region</dd><dt><span>comment :</span></dt><dd>value from RGIv6.0</dd></dl></div><div class='xr-var-data'><pre>[1 values with dtype=int64]</pre></div></li><li class='xr-var-item'><div class='xr-var-name'><span>Area</span></div><div class='xr-var-dims'>(glac)</div><div class='xr-var-dtype'>float64</div><div class='xr-var-preview xr-preview'>...</div><input id='attrs-4bd24bdb-6a19-4b22-9ad7-b2814041d10d' class='xr-var-attrs-in' type='checkbox' ><label for='attrs-4bd24bdb-6a19-4b22-9ad7-b2814041d10d' title='Show/Hide attributes'><svg class='icon xr-icon-file-text2'><use xlink:href='#icon-file-text2'></use></svg></label><input id='data-9a1d0d36-242a-4fea-a515-1f48557edd86' class='xr-var-data-in' type='checkbox'><label for='data-9a1d0d36-242a-4fea-a515-1f48557edd86' title='Show/Hide data repr'><svg class='icon xr-icon-database'><use xlink:href='#icon-database'></use></svg></label><div class='xr-var-attrs'><dl class='xr-attrs'><dt><span>long_name :</span></dt><dd>glacier area</dd><dt><span>units :</span></dt><dd>m2</dd><dt><span>comment :</span></dt><dd>value from RGIv6.0</dd></dl></div><div class='xr-var-data'><pre>[1 values with dtype=float64]</pre></div></li><li class='xr-var-item'><div class='xr-var-name'><span>glac_runoff_monthly</span></div><div class='xr-var-dims'>(glac, time)</div><div class='xr-var-dtype'>float64</div><div class='xr-var-preview xr-preview'>...</div><input id='attrs-aaa0f780-fb6e-4147-8e23-4e81fcbb8eea' class='xr-var-attrs-in' type='checkbox' ><label for='attrs-aaa0f780-fb6e-4147-8e23-4e81fcbb8eea' title='Show/Hide attributes'><svg class='icon xr-icon-file-text2'><use xlink:href='#icon-file-text2'></use></svg></label><input id='data-524bd08e-df11-44b2-b6cd-aead645ccf6c' class='xr-var-data-in' type='checkbox'><label for='data-524bd08e-df11-44b2-b6cd-aead645ccf6c' title='Show/Hide data repr'><svg class='icon xr-icon-database'><use xlink:href='#icon-database'></use></svg></label><div class='xr-var-attrs'><dl class='xr-attrs'><dt><span>long_name :</span></dt><dd>glacier-wide runoff</dd><dt><span>units :</span></dt><dd>m3</dd><dt><span>temporal_resolution :</span></dt><dd>monthly</dd><dt><span>comment :</span></dt><dd>runoff from the glacier terminus, which moves over time</dd></dl></div><div class='xr-var-data'><pre>[1212 values with dtype=float64]</pre></div></li><li class='xr-var-item'><div class='xr-var-name'><span>glac_area_annual</span></div><div class='xr-var-dims'>(glac, year)</div><div class='xr-var-dtype'>float64</div><div class='xr-var-preview xr-preview'>...</div><input id='attrs-7ff7abc7-9d79-4e3f-b07a-baaa864a2260' class='xr-var-attrs-in' type='checkbox' ><label for='attrs-7ff7abc7-9d79-4e3f-b07a-baaa864a2260' title='Show/Hide attributes'><svg class='icon xr-icon-file-text2'><use xlink:href='#icon-file-text2'></use></svg></label><input id='data-14612c30-603c-481c-a588-ae7b6fd676bc' class='xr-var-data-in' type='checkbox'><label for='data-14612c30-603c-481c-a588-ae7b6fd676bc' title='Show/Hide data repr'><svg class='icon xr-icon-database'><use xlink:href='#icon-database'></use></svg></label><div class='xr-var-attrs'><dl class='xr-attrs'><dt><span>long_name :</span></dt><dd>glacier area</dd><dt><span>units :</span></dt><dd>m2</dd><dt><span>temporal_resolution :</span></dt><dd>annual</dd><dt><span>comment :</span></dt><dd>area at start of the year</dd></dl></div><div class='xr-var-data'><pre>[102 values with dtype=float64]</pre></div></li><li class='xr-var-item'><div class='xr-var-name'><span>glac_mass_annual</span></div><div class='xr-var-dims'>(glac, year)</div><div class='xr-var-dtype'>float64</div><div class='xr-var-preview xr-preview'>...</div><input id='attrs-ae829c6d-6985-4e3b-81aa-c758ef5c6da8' class='xr-var-attrs-in' type='checkbox' ><label for='attrs-ae829c6d-6985-4e3b-81aa-c758ef5c6da8' title='Show/Hide attributes'><svg class='icon xr-icon-file-text2'><use xlink:href='#icon-file-text2'></use></svg></label><input id='data-6aa7283b-f5a0-4530-85ec-8714adddf382' class='xr-var-data-in' type='checkbox'><label for='data-6aa7283b-f5a0-4530-85ec-8714adddf382' title='Show/Hide data repr'><svg class='icon xr-icon-database'><use xlink:href='#icon-database'></use></svg></label><div class='xr-var-attrs'><dl class='xr-attrs'><dt><span>long_name :</span></dt><dd>glacier mass</dd><dt><span>units :</span></dt><dd>kg</dd><dt><span>temporal_resolution :</span></dt><dd>annual</dd><dt><span>comment :</span></dt><dd>mass of ice based on area and ice thickness at start of the year</dd></dl></div><div class='xr-var-data'><pre>[102 values with dtype=float64]</pre></div></li><li class='xr-var-item'><div class='xr-var-name'><span>glac_mass_bsl_annual</span></div><div class='xr-var-dims'>(glac, year)</div><div class='xr-var-dtype'>float64</div><div class='xr-var-preview xr-preview'>...</div><input id='attrs-48a96df0-c73d-40fe-b98e-6d884306058e' class='xr-var-attrs-in' type='checkbox' ><label for='attrs-48a96df0-c73d-40fe-b98e-6d884306058e' title='Show/Hide attributes'><svg class='icon xr-icon-file-text2'><use xlink:href='#icon-file-text2'></use></svg></label><input id='data-efc32864-25c8-4b47-9062-a8fb202e6fa0' class='xr-var-data-in' type='checkbox'><label for='data-efc32864-25c8-4b47-9062-a8fb202e6fa0' title='Show/Hide data repr'><svg class='icon xr-icon-database'><use xlink:href='#icon-database'></use></svg></label><div class='xr-var-attrs'><dl class='xr-attrs'><dt><span>long_name :</span></dt><dd>glacier mass below sea level</dd><dt><span>units :</span></dt><dd>kg</dd><dt><span>temporal_resolution :</span></dt><dd>annual</dd><dt><span>comment :</span></dt><dd>mass of ice below sea level based on area and ice thickness at start of the year</dd></dl></div><div class='xr-var-data'><pre>[102 values with dtype=float64]</pre></div></li><li class='xr-var-item'><div class='xr-var-name'><span>glac_ELA_annual</span></div><div class='xr-var-dims'>(glac, year)</div><div class='xr-var-dtype'>float64</div><div class='xr-var-preview xr-preview'>...</div><input id='attrs-d346ef6c-4bc3-4c31-9733-521bade6b8b1' class='xr-var-attrs-in' type='checkbox' ><label for='attrs-d346ef6c-4bc3-4c31-9733-521bade6b8b1' title='Show/Hide attributes'><svg class='icon xr-icon-file-text2'><use xlink:href='#icon-file-text2'></use></svg></label><input id='data-ddce7e78-32c6-4461-b228-846b7ba28540' class='xr-var-data-in' type='checkbox'><label for='data-ddce7e78-32c6-4461-b228-846b7ba28540' title='Show/Hide data repr'><svg class='icon xr-icon-database'><use xlink:href='#icon-database'></use></svg></label><div class='xr-var-attrs'><dl class='xr-attrs'><dt><span>long_name :</span></dt><dd>annual equilibrium line altitude above mean sea level</dd><dt><span>units :</span></dt><dd>m</dd><dt><span>temporal_resolution :</span></dt><dd>annual</dd><dt><span>comment :</span></dt><dd>equilibrium line altitude is the elevation where the climatic mass balance is zero</dd></dl></div><div class='xr-var-data'><pre>[102 values with dtype=float64]</pre></div></li><li class='xr-var-item'><div class='xr-var-name'><span>offglac_runoff_monthly</span></div><div class='xr-var-dims'>(glac, time)</div><div class='xr-var-dtype'>float64</div><div class='xr-var-preview xr-preview'>...</div><input id='attrs-48e881f2-e455-4a5a-9389-d5a6e4c7de14' class='xr-var-attrs-in' type='checkbox' ><label for='attrs-48e881f2-e455-4a5a-9389-d5a6e4c7de14' title='Show/Hide attributes'><svg class='icon xr-icon-file-text2'><use xlink:href='#icon-file-text2'></use></svg></label><input id='data-ae7b907e-62b9-4d74-b327-9103178b8c84' class='xr-var-data-in' type='checkbox'><label for='data-ae7b907e-62b9-4d74-b327-9103178b8c84' title='Show/Hide data repr'><svg class='icon xr-icon-database'><use xlink:href='#icon-database'></use></svg></label><div class='xr-var-attrs'><dl class='xr-attrs'><dt><span>long_name :</span></dt><dd>off-glacier-wide runoff</dd><dt><span>units :</span></dt><dd>m3</dd><dt><span>temporal_resolution :</span></dt><dd>monthly</dd><dt><span>comment :</span></dt><dd>off-glacier runoff from area where glacier no longer exists</dd></dl></div><div class='xr-var-data'><pre>[1212 values with dtype=float64]</pre></div></li><li class='xr-var-item'><div class='xr-var-name'><span>glac_runoff_monthly_mad</span></div><div class='xr-var-dims'>(glac, time)</div><div class='xr-var-dtype'>float64</div><div class='xr-var-preview xr-preview'>...</div><input id='attrs-55701e1e-2226-48d0-ba2d-a781355569ad' class='xr-var-attrs-in' type='checkbox' ><label for='attrs-55701e1e-2226-48d0-ba2d-a781355569ad' title='Show/Hide attributes'><svg class='icon xr-icon-file-text2'><use xlink:href='#icon-file-text2'></use></svg></label><input id='data-4f13cd7d-95c3-416f-848c-8b4cae2e8607' class='xr-var-data-in' type='checkbox'><label for='data-4f13cd7d-95c3-416f-848c-8b4cae2e8607' title='Show/Hide data repr'><svg class='icon xr-icon-database'><use xlink:href='#icon-database'></use></svg></label><div class='xr-var-attrs'><dl class='xr-attrs'><dt><span>long_name :</span></dt><dd>glacier-wide runoff median absolute deviation</dd><dt><span>units :</span></dt><dd>m3</dd><dt><span>temporal_resolution :</span></dt><dd>monthly</dd><dt><span>comment :</span></dt><dd>runoff from the glacier terminus, which moves over time</dd></dl></div><div class='xr-var-data'><pre>[1212 values with dtype=float64]</pre></div></li><li class='xr-var-item'><div class='xr-var-name'><span>glac_area_annual_mad</span></div><div class='xr-var-dims'>(glac, year)</div><div class='xr-var-dtype'>float64</div><div class='xr-var-preview xr-preview'>...</div><input id='attrs-2d38b173-40b0-4755-8935-b8026404a65a' class='xr-var-attrs-in' type='checkbox' ><label for='attrs-2d38b173-40b0-4755-8935-b8026404a65a' title='Show/Hide attributes'><svg class='icon xr-icon-file-text2'><use xlink:href='#icon-file-text2'></use></svg></label><input id='data-82a6e2e6-54dd-4093-af34-492166c23997' class='xr-var-data-in' type='checkbox'><label for='data-82a6e2e6-54dd-4093-af34-492166c23997' title='Show/Hide data repr'><svg class='icon xr-icon-database'><use xlink:href='#icon-database'></use></svg></label><div class='xr-var-attrs'><dl class='xr-attrs'><dt><span>long_name :</span></dt><dd>glacier area median absolute deviation</dd><dt><span>units :</span></dt><dd>m2</dd><dt><span>temporal_resolution :</span></dt><dd>annual</dd><dt><span>comment :</span></dt><dd>area at start of the year</dd></dl></div><div class='xr-var-data'><pre>[102 values with dtype=float64]</pre></div></li><li class='xr-var-item'><div class='xr-var-name'><span>glac_mass_annual_mad</span></div><div class='xr-var-dims'>(glac, year)</div><div class='xr-var-dtype'>float64</div><div class='xr-var-preview xr-preview'>...</div><input id='attrs-4854e1d9-1ff4-48e9-b2a8-2c65fac6b9e7' class='xr-var-attrs-in' type='checkbox' ><label for='attrs-4854e1d9-1ff4-48e9-b2a8-2c65fac6b9e7' title='Show/Hide attributes'><svg class='icon xr-icon-file-text2'><use xlink:href='#icon-file-text2'></use></svg></label><input id='data-83e154ed-6d0d-4e93-8c14-08e3030dc68f' class='xr-var-data-in' type='checkbox'><label for='data-83e154ed-6d0d-4e93-8c14-08e3030dc68f' title='Show/Hide data repr'><svg class='icon xr-icon-database'><use xlink:href='#icon-database'></use></svg></label><div class='xr-var-attrs'><dl class='xr-attrs'><dt><span>long_name :</span></dt><dd>glacier mass median absolute deviation</dd><dt><span>units :</span></dt><dd>kg</dd><dt><span>temporal_resolution :</span></dt><dd>annual</dd><dt><span>comment :</span></dt><dd>mass of ice based on area and ice thickness at start of the year</dd></dl></div><div class='xr-var-data'><pre>[102 values with dtype=float64]</pre></div></li><li class='xr-var-item'><div class='xr-var-name'><span>glac_mass_bsl_annual_mad</span></div><div class='xr-var-dims'>(glac, year)</div><div class='xr-var-dtype'>float64</div><div class='xr-var-preview xr-preview'>...</div><input id='attrs-5d136ce5-3c23-49fa-a717-665ce3d7a9bb' class='xr-var-attrs-in' type='checkbox' ><label for='attrs-5d136ce5-3c23-49fa-a717-665ce3d7a9bb' title='Show/Hide attributes'><svg class='icon xr-icon-file-text2'><use xlink:href='#icon-file-text2'></use></svg></label><input id='data-f759649b-0c22-4075-a0b1-13909ba91e7d' class='xr-var-data-in' type='checkbox'><label for='data-f759649b-0c22-4075-a0b1-13909ba91e7d' title='Show/Hide data repr'><svg class='icon xr-icon-database'><use xlink:href='#icon-database'></use></svg></label><div class='xr-var-attrs'><dl class='xr-attrs'><dt><span>long_name :</span></dt><dd>glacier mass below sea level median absolute deviation</dd><dt><span>units :</span></dt><dd>kg</dd><dt><span>temporal_resolution :</span></dt><dd>annual</dd><dt><span>comment :</span></dt><dd>mass of ice below sea level based on area and ice thickness at start of the year</dd></dl></div><div class='xr-var-data'><pre>[102 values with dtype=float64]</pre></div></li><li class='xr-var-item'><div class='xr-var-name'><span>glac_ELA_annual_mad</span></div><div class='xr-var-dims'>(glac, year)</div><div class='xr-var-dtype'>float64</div><div class='xr-var-preview xr-preview'>...</div><input id='attrs-13c697c8-06a8-4ede-98b0-dcf80ed0ead6' class='xr-var-attrs-in' type='checkbox' ><label for='attrs-13c697c8-06a8-4ede-98b0-dcf80ed0ead6' title='Show/Hide attributes'><svg class='icon xr-icon-file-text2'><use xlink:href='#icon-file-text2'></use></svg></label><input id='data-a71bb971-b810-4203-9f3e-d3a7a29c3319' class='xr-var-data-in' type='checkbox'><label for='data-a71bb971-b810-4203-9f3e-d3a7a29c3319' title='Show/Hide data repr'><svg class='icon xr-icon-database'><use xlink:href='#icon-database'></use></svg></label><div class='xr-var-attrs'><dl class='xr-attrs'><dt><span>long_name :</span></dt><dd>annual equilibrium line altitude above mean sea level median absolute deviation</dd><dt><span>units :</span></dt><dd>m</dd><dt><span>temporal_resolution :</span></dt><dd>annual</dd><dt><span>comment :</span></dt><dd>equilibrium line altitude is the elevation where the climatic mass balance is zero</dd></dl></div><div class='xr-var-data'><pre>[102 values with dtype=float64]</pre></div></li><li class='xr-var-item'><div class='xr-var-name'><span>offglac_runoff_monthly_mad</span></div><div class='xr-var-dims'>(glac, time)</div><div class='xr-var-dtype'>float64</div><div class='xr-var-preview xr-preview'>...</div><input id='attrs-548d6a64-1e0a-4167-9f47-5fd4648da024' class='xr-var-attrs-in' type='checkbox' ><label for='attrs-548d6a64-1e0a-4167-9f47-5fd4648da024' title='Show/Hide attributes'><svg class='icon xr-icon-file-text2'><use xlink:href='#icon-file-text2'></use></svg></label><input id='data-85cfb769-29c5-4dea-9cd1-237f192ddf36' class='xr-var-data-in' type='checkbox'><label for='data-85cfb769-29c5-4dea-9cd1-237f192ddf36' title='Show/Hide data repr'><svg class='icon xr-icon-database'><use xlink:href='#icon-database'></use></svg></label><div class='xr-var-attrs'><dl class='xr-attrs'><dt><span>long_name :</span></dt><dd>off-glacier-wide runoff median absolute deviation</dd><dt><span>units :</span></dt><dd>m3</dd><dt><span>temporal_resolution :</span></dt><dd>monthly</dd><dt><span>comment :</span></dt><dd>off-glacier runoff from area where glacier no longer exists</dd></dl></div><div class='xr-var-data'><pre>[1212 values with dtype=float64]</pre></div></li></ul></div></li><li class='xr-section-item'><input id='section-369bed1c-e11f-4a21-ad68-7443d0fb9325' class='xr-section-summary-in' type='checkbox'  ><label for='section-369bed1c-e11f-4a21-ad68-7443d0fb9325' class='xr-section-summary' >Indexes: <span>(3)</span></label><div class='xr-section-inline-details'></div><div class='xr-section-details'><ul class='xr-var-list'><li class='xr-var-item'><div class='xr-index-name'><div>glac</div></div><div class='xr-index-preview'>PandasIndex</div><input type='checkbox' disabled/><label></label><input id='index-61d5a1f0-c778-4bea-9d68-d648bbc935f6' class='xr-index-data-in' type='checkbox'/><label for='index-61d5a1f0-c778-4bea-9d68-d648bbc935f6' title='Show/Hide index repr'><svg class='icon xr-icon-database'><use xlink:href='#icon-database'></use></svg></label><div class='xr-index-data'><pre>PandasIndex(Index([0], dtype=&#x27;int64&#x27;, name=&#x27;glac&#x27;))</pre></div></li><li class='xr-var-item'><div class='xr-index-name'><div>time</div></div><div class='xr-index-preview'>PandasIndex</div><input type='checkbox' disabled/><label></label><input id='index-63cf2cdc-a4fe-4e34-9829-39e31bfdd73b' class='xr-index-data-in' type='checkbox'/><label for='index-63cf2cdc-a4fe-4e34-9829-39e31bfdd73b' title='Show/Hide index repr'><svg class='icon xr-icon-database'><use xlink:href='#icon-database'></use></svg></label><div class='xr-index-data'><pre>PandasIndex(CFTimeIndex([2000-01-01 00:00:00, 2000-02-01 00:00:00, 2000-03-01 00:00:00,\n",
       "             2000-04-01 00:00:00, 2000-05-01 00:00:00, 2000-06-01 00:00:00,\n",
       "             2000-07-01 00:00:00, 2000-08-01 00:00:00, 2000-09-01 00:00:00,\n",
       "             2000-10-01 00:00:00,\n",
       "             ...\n",
       "             2100-03-01 00:00:00, 2100-04-01 00:00:00, 2100-05-01 00:00:00,\n",
       "             2100-06-01 00:00:00, 2100-07-01 00:00:00, 2100-08-01 00:00:00,\n",
       "             2100-09-01 00:00:00, 2100-10-01 00:00:00, 2100-11-01 00:00:00,\n",
       "             2100-12-01 00:00:00],\n",
       "            dtype=&#x27;object&#x27;, length=1212, calendar=&#x27;noleap&#x27;, freq=&#x27;MS&#x27;))</pre></div></li><li class='xr-var-item'><div class='xr-index-name'><div>year</div></div><div class='xr-index-preview'>PandasIndex</div><input type='checkbox' disabled/><label></label><input id='index-55654ea9-d4da-4690-9f36-bb56977d4f5d' class='xr-index-data-in' type='checkbox'/><label for='index-55654ea9-d4da-4690-9f36-bb56977d4f5d' title='Show/Hide index repr'><svg class='icon xr-icon-database'><use xlink:href='#icon-database'></use></svg></label><div class='xr-index-data'><pre>PandasIndex(Index([2000, 2001, 2002, 2003, 2004, 2005, 2006, 2007, 2008, 2009,\n",
       "       ...\n",
       "       2092, 2093, 2094, 2095, 2096, 2097, 2098, 2099, 2100, 2101],\n",
       "      dtype=&#x27;int64&#x27;, name=&#x27;year&#x27;, length=102))</pre></div></li></ul></div></li><li class='xr-section-item'><input id='section-dc64afb5-434c-43e4-a436-c14fe4921842' class='xr-section-summary-in' type='checkbox'  checked><label for='section-dc64afb5-434c-43e4-a436-c14fe4921842' class='xr-section-summary' >Attributes: <span>(5)</span></label><div class='xr-section-inline-details'></div><div class='xr-section-details'><dl class='xr-attrs'><dt><span>source :</span></dt><dd>PyGEMv1.0.1</dd><dt><span>institution :</span></dt><dd>Carnegie Mellon University, Pittsburgh PA</dd><dt><span>history :</span></dt><dd>Created by David Rounce (drounce@cmu.edu) on 2025-03-02</dd><dt><span>references :</span></dt><dd>doi:10.1126/science.abo1324</dd><dt><span>model_parameters :</span></dt><dd>{&quot;ref_startyear&quot;: 2000, &quot;ref_endyear&quot;: 2019, &quot;gcm_startyear&quot;: 2000, &quot;gcm_endyear&quot;: 2100, &quot;gcm_name&quot;: &quot;CESM2&quot;, &quot;realization&quot;: null, &quot;scenario&quot;: &quot;ssp245&quot;, &quot;option_calibration&quot;: &quot;MCMC&quot;, &quot;option_bias_adjustment&quot;: 1}</dd></dl></div></li></ul></div></div>"
      ],
      "text/plain": [
       "<xarray.Dataset> Size: 56kB\n",
       "Dimensions:                     (glac: 1, time: 1212, year: 102)\n",
       "Coordinates:\n",
       "  * glac                        (glac) int64 8B 0\n",
       "  * time                        (time) object 10kB 2000-01-01 00:00:00 ... 21...\n",
       "  * year                        (year) int64 816B 2000 2001 2002 ... 2100 2101\n",
       "Data variables: (12/18)\n",
       "    RGIId                       (glac) <U14 56B ...\n",
       "    CenLon                      (glac) float64 8B ...\n",
       "    CenLat                      (glac) float64 8B ...\n",
       "    O1Region                    (glac) int64 8B ...\n",
       "    O2Region                    (glac) int64 8B ...\n",
       "    Area                        (glac) float64 8B ...\n",
       "    ...                          ...\n",
       "    glac_runoff_monthly_mad     (glac, time) float64 10kB ...\n",
       "    glac_area_annual_mad        (glac, year) float64 816B ...\n",
       "    glac_mass_annual_mad        (glac, year) float64 816B ...\n",
       "    glac_mass_bsl_annual_mad    (glac, year) float64 816B ...\n",
       "    glac_ELA_annual_mad         (glac, year) float64 816B ...\n",
       "    offglac_runoff_monthly_mad  (glac, time) float64 10kB ...\n",
       "Attributes:\n",
       "    source:            PyGEMv1.0.1\n",
       "    institution:       Carnegie Mellon University, Pittsburgh PA\n",
       "    history:           Created by David Rounce (drounce@cmu.edu) on 2025-03-02\n",
       "    references:        doi:10.1126/science.abo1324\n",
       "    model_parameters:  {\"ref_startyear\": 2000, \"ref_endyear\": 2019, \"gcm_star..."
      ]
     },
     "execution_count": 15,
     "metadata": {},
     "output_type": "execute_result"
    }
   ],
   "source": [
    "import xarray as xr\n",
    "ds = xr.open_dataset(glob.glob(f'{rootpath}/Output/simulations/{reg}/{gcm_name}/{scenario}/stats/{glac_no}_{gcm_name}_{scenario}_MCMC_*50sets*_2000_2100_all.nc*')[0])\n",
    "ds"
   ]
  },
  {
   "cell_type": "markdown",
   "metadata": {},
   "source": [
    "We can see the model output dataset above. Note, the default model output for `>1` simulation is to store the median and the median absolute deviation across all simulations (see [here](https://pygem.readthedocs.io/en/latest/model_output.html)). We'll plot the median and median absolute debiation across all 50 simulations for the glacier runorr, mass, and area, but feel free to experiment with other variables and analyses."
   ]
  },
  {
   "cell_type": "code",
   "execution_count": 16,
   "metadata": {},
   "outputs": [],
   "source": [
    "# pull monthly runoff and resample to annual values - do this for median and median abs. deviation\n",
    "ks = ['glac_runoff_monthly', 'glac_runoff_monthly_mad']\n",
    "runoff = []\n",
    "for k in ks:\n",
    "    # runoff is monthly, so sum to yealy vals\n",
    "    ds_sum = ds[k][0].resample(time='YE').sum('time')\n",
    "    # append annual runoff to list\n",
    "    runoff.append(ds_sum.values)\n",
    "\n",
    "# pull annual area - do this for median and median abs. deviation\n",
    "ks = ['glac_area_annual', 'glac_area_annual_mad']\n",
    "area = []\n",
    "for k in ks:\n",
    "    # note, PyGEM annual area is the area at the beginning of each model year\n",
    "    # to align with plotting the total runoff from each year, we'll take index [1:],\n",
    "    # inidicating we're analyzing values for the end of each model year\n",
    "    area.append(ds[k][0].values[1:])\n",
    "\n",
    "\n",
    "# pull annual mass - do this for median and median abs. deviation\n",
    "ks = ['glac_mass_annual', 'glac_mass_annual_mad']\n",
    "mass = []\n",
    "for k in ks:\n",
    "    # note, PyGEM annual mass is the mass at the beginning of each model year\n",
    "    # to align with plotting the total runoff from each year, we'll take index [1:],\n",
    "    # inidicating we're analyzing values for the end of each model year\n",
    "    mass.append(ds[k][0].values[1:])\n",
    "\n",
    "# get model years - note indexing [:-1]\n",
    "# for a simulation that ran from 2000 thru 2100\n",
    "year = (ds.year.values[:-1:])"
   ]
  },
  {
   "cell_type": "code",
   "execution_count": 17,
   "metadata": {},
   "outputs": [
    {
     "data": {
      "image/png": "[encoded data removed]",
      "text/plain": [
       "<Figure size 400x700 with 3 Axes>"
      ]
     },
     "metadata": {},
     "output_type": "display_data"
    }
   ],
   "source": [
    "# create 3 x 1 plot with runoff, area, mass\n",
    "import matplotlib.pyplot as plt\n",
    "# initialize figure\n",
    "fig,ax = plt.subplots(3,figsize=(4,7),sharex=True)\n",
    "ax[0].plot(year,runoff[0]/runoff[0][0], label='Median')\n",
    "ax[0].fill_between(year,\n",
    "                    (runoff[0] - runoff[1]) / runoff[0][0],\n",
    "                    (runoff[0] + runoff[1]) / runoff[0][0],\n",
    "                    alpha=.5,\n",
    "                    label='MAD')\n",
    "\n",
    "ax[1].plot(year,area[0]/area[0][0])\n",
    "ax[1].fill_between(year,\n",
    "                    (area[0] - area[1]) / area[0][0],\n",
    "                    (area[0] + area[1]) / area[0][0],\n",
    "                    alpha=.5)\n",
    "\n",
    "ax[2].plot(year,mass[0]/mass[0][0])\n",
    "ax[2].fill_between(year,\n",
    "                    (mass[0] - mass[1]) / mass[0][0],\n",
    "                    (mass[0] + mass[1]) / mass[0][0],\n",
    "                    alpha=.5)\n",
    "\n",
    "# create legend\n",
    "leg = ax[0].legend(fancybox=False,borderaxespad=0,handlelength=1,loc='upper right')\n",
    "# increase linewidths in legend\n",
    "\n",
    "for line in leg.get_lines():\n",
    "    line.set_linewidth(2)\n",
    "    \n",
    "# set x axis limits to temporal extent of our data\n",
    "ax[0].set_xlim([2000,2100])\n",
    "# create x and y axis labels\n",
    "ax[0].text(-0.25, 0.5, 'normalized glacier runoff (-)', va='center', ha='center', rotation=90, transform=ax[0].transAxes)\n",
    "ax[1].text(-0.25, 0.5, 'normalized glacier area (-)', va='center', ha='center', rotation=90, transform=ax[1].transAxes)\n",
    "ax[2].text(-0.25, 0.5, 'normalized glacier mass (-)', va='center', ha='center', rotation=90, transform=ax[2].transAxes)\n",
    "# title\n",
    "ax[0].text(.5, 1.1, 'LeConte Glacier CEMS2 SSP2-4.5', va='center', ha='center', rotation=0, transform=ax[0].transAxes)\n",
    "fig.tight_layout()"
   ]
  },
  {
   "cell_type": "markdown",
   "metadata": {},
   "source": [
    "## Next:\n",
    "Expand on what your learned in the PyGEM test notebooks (try your favorite glacier, or run for an entire region), or explore some of the other demonstration notebooks:\n",
    "* [*run_calibration.ipynb*](https://github.com/PyGEM-Community/PyGEM-notebooks/blob/main/run_calibration.ipynb): demonstrates regional model calibration at the end of the notebook\n",
    "* [*run_simulation.ipynb*](https://github.com/PyGEM-Community/PyGEM-notebooks/blob/main/run_simulation.ipynb): demonstrates regional model simulation at the end of the notebook\n",
    "* [*analyze_regional_change.ipynb*](https://github.com/PyGEM-Community/PyGEM-notebooks/blob/main/analyze_regional_change.ipynb): demonstrates regional model simulation analysis"
   ]
  }
 ],
 "metadata": {
  "kernelspec": {
   "display_name": "Python 3 (ipykernel)",
   "language": "python",
   "name": "python3"
  },
  "language_info": {
   "codemirror_mode": {
    "name": "ipython",
    "version": 3
   },
   "file_extension": ".py",
   "mimetype": "text/x-python",
   "name": "python",
   "nbconvert_exporter": "python",
   "pygments_lexer": "ipython3",
   "version": "3.12.9"
  }
 },
 "nbformat": 4,
 "nbformat_minor": 4
}
