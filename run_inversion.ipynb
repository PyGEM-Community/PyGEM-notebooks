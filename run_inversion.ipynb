{
 "cells": [
  {
   "cell_type": "markdown",
   "id": "6c2cc996",
   "metadata": {},
   "source": [
    "# PyGEM glacier thickness/bed inversion using OGGM\n",
    "\n",
    "Brandon S. Tober<br>\n",
    "\n",
    "30MAY2025<br>\n",
    "\n",
    "This notebook goes through ice thickness inversion using OGGM's workflows, but with PyGEM's mass balance model. This is typically done for all glacier's in a given region simultaneously (see [this OGGM tutorial](https://tutorials.oggm.org/stable/notebooks/tutorials/inversion.html)), to find a Glen's A creep parameter that allows for the total regional ice volume from inversion to best match the regional reference ice volume (from Farinotti et al. 2019).  The only departure from OGGM's workflow and preprocessing here is that we pass PyGEM's mass balance model, and we ensure that debris is added to the flowline objects so that PyGEM's mass balance model can account for debris cover accordingly.\n",
    "\n",
    "This notebook accompanies PyGEM's `run_inversion.py` script for demonstrative purposes. The resulting glacier directory data will resemble the state of [OGGM's level 3](https://tutorials.oggm.org/stable/notebooks/tutorials/building_the_prepro_gdirs.html#level-3) preprocessing, however using PyGEM's mass balance model instead of OGGM's."
   ]
  },
  {
   "cell_type": "code",
   "execution_count": 1,
   "id": "b9f6191e-fbc4-4c77-b446-bca50ffab250",
   "metadata": {},
   "outputs": [],
   "source": [
    "### imports ###\n",
    "import os\n",
    "from functools import partial\n",
    "import matplotlib.pyplot as plt\n",
    "import numpy as np\n",
    "import pandas as pd\n",
    "from oggm import cfg, tasks, workflow\n",
    "import pygem.pygem_modelsetup as modelsetup\n",
    "from pygem import class_climate\n",
    "from pygem.massbalance import PyGEMMassBalance_wrapper\n",
    "from pygem.oggm_compat import update_cfg\n",
    "from pygem.shop import debris, mbdata\n",
    "from pygem.setup.config import ConfigManager\n",
    "# instantiate ConfigManager\n",
    "config_manager = ConfigManager()\n",
    "# read the config\n",
    "pygem_prms = config_manager.read_config()   # NOTE: ensure that your root path in ~/PyGEM/config.yaml points to\n",
    "                                            # the appropriate location. If any errors occur, check this first.\n",
    "\n",
    "# set some plotting defaults\n",
    "plt.rcParams['font.family'] = 'arial'\n",
    "plt.rcParams['font.size'] = 10\n",
    "plt.rcParams['legend.fontsize'] = 8\n",
    "cfg.initialize(logging_level='CRITICAL')\n",
    "cfg.PATHS['working_dir'] = (\n",
    "    f'{pygem_prms[\"root\"]}/{pygem_prms[\"oggm\"][\"oggm_gdir_relpath\"]}'\n",
    ")"
   ]
  },
  {
   "cell_type": "markdown",
   "id": "25df5415",
   "metadata": {},
   "source": [
    "# SETUP"
   ]
  },
  {
   "cell_type": "code",
   "execution_count": 2,
   "id": "67ce6f67",
   "metadata": {},
   "outputs": [],
   "source": [
    "# OGGM configuration settings\n",
    "update_cfg({'continue_on_error': True}, 'PARAMS')\n",
    "update_cfg({'use_multiprocessing': True}, 'PARAMS')\n",
    "update_cfg({'has_internet': True}, 'PARAMS')"
   ]
  },
  {
   "cell_type": "code",
   "execution_count": 3,
   "id": "c6e55e25",
   "metadata": {},
   "outputs": [
    {
     "name": "stdout",
     "output_type": "stream",
     "text": [
      "This study is focusing on 568 glaciers in region [6]\n"
     ]
    }
   ],
   "source": [
    "# Glacier Directory initialization for RGIId's of interest. Note, for inversion, we likely want all glaciers\n",
    "# in a given region, but for testing maybe just a handful?\n",
    "\n",
    "main_glac_rgi = modelsetup.selectglaciersrgitable(rgi_regionsO1=[6])        # testing with RGI region 6 since it's smaller\n",
    "# main_glac_rgi = main_glac_rgi[main_glac_rgi.RGIId==\"RGI60-06.00000\"]      # testing with a single glacier (uncomment if desired)\n",
    "rgi_ids = main_glac_rgi['RGIId'].tolist()\n",
    "# initialize all glacier directories (from level 2 OGGM preprocessing)\n",
    "# note, this wipes preexisting gdirs and can take some time to download the data\n",
    "gdirs = workflow.init_glacier_directories(\n",
    "    rgi_ids,\n",
    "    from_prepro_level=2,\n",
    "    prepro_border=cfg.PARAMS['border'],\n",
    "    prepro_base_url=pygem_prms['oggm']['base_url'],\n",
    "    prepro_rgi_version='62',\n",
    ");"
   ]
  },
  {
   "cell_type": "code",
   "execution_count": 4,
   "id": "a231eb39",
   "metadata": {},
   "outputs": [],
   "source": [
    "# PyGEM setup - model datestable, climate data import, prior model parameters\n",
    "\n",
    "# model dates\n",
    "dt = modelsetup.datesmodelrun(\n",
    "    startyear=1979, endyear=2019\n",
    ")  # will have to cover the time period of inversion (2000-2019) and spinup (1979-~2010 by default). Note, 1940 startyear just in case we want to run spinup starting earlier.\n",
    "# load climate data\n",
    "ref_clim = class_climate.GCM(name='ERA5')\n",
    "\n",
    "# Air temperature [degC]\n",
    "temp, _ = ref_clim.importGCMvarnearestneighbor_xarray(\n",
    "    ref_clim.temp_fn, ref_clim.temp_vn, main_glac_rgi, dt\n",
    ")\n",
    "# Precipitation [m]\n",
    "prec, _ = ref_clim.importGCMvarnearestneighbor_xarray(\n",
    "    ref_clim.prec_fn, ref_clim.prec_vn, main_glac_rgi, dt\n",
    ")\n",
    "# Elevation [m asl]\n",
    "elev = ref_clim.importGCMfxnearestneighbor_xarray(\n",
    "    ref_clim.elev_fn, ref_clim.elev_vn, main_glac_rgi\n",
    ")\n",
    "# Lapse rate [degC m-1]\n",
    "lr, _ = ref_clim.importGCMvarnearestneighbor_xarray(\n",
    "    ref_clim.lr_fn, ref_clim.lr_vn, main_glac_rgi, dt\n",
    ")\n",
    "\n",
    "# load prior regionally averaged modelprms (from Rounce et al. 2023)\n",
    "priors_df = pd.read_csv(\n",
    "    pygem_prms['root'] + '/Output/calibration/' + pygem_prms['calib']['priors_reg_fn']\n",
    ")\n",
    "\n",
    "# loop through gdirs and add `glacier_rgi_table`, `historical_climate`, `dates_table` and `modelprms` attributes to each glacier directory\n",
    "for i, gd in enumerate(gdirs):\n",
    "    # Select subsets of data\n",
    "    gd.glacier_rgi_table = main_glac_rgi.loc[main_glac_rgi.index.values[i], :]\n",
    "    # Add climate data to glacier directory (first inversion data)\n",
    "    gd.historical_climate = {\n",
    "        'elev': elev[i],\n",
    "        'temp': temp[i, :],\n",
    "        'tempstd': np.zeros(temp[i, :].shape),\n",
    "        'prec': prec[i, :],\n",
    "        'lr': lr[i, :],\n",
    "    }\n",
    "    gd.dates_table = dt\n",
    "\n",
    "    # get modelprms from regional priors\n",
    "    priors_idx = np.where(\n",
    "        (priors_df.O1Region == gd.glacier_rgi_table['O1Region'])\n",
    "        & (priors_df.O2Region == gd.glacier_rgi_table['O2Region'])\n",
    "    )[0][0]\n",
    "    tbias_mu = float(priors_df.loc[priors_idx, 'tbias_mean'])\n",
    "    kp_mu = float(priors_df.loc[priors_idx, 'kp_mean'])\n",
    "    gd.modelprms = {\n",
    "        'kp': kp_mu,\n",
    "        'tbias': tbias_mu,\n",
    "        'ddfsnow': pygem_prms['calib']['MCMC_params']['ddfsnow_mu'],\n",
    "        'ddfice': pygem_prms['calib']['MCMC_params']['ddfsnow_mu']\n",
    "        / pygem_prms['sim']['params']['ddfsnow_iceratio'],\n",
    "        'precgrad': pygem_prms['sim']['params']['precgrad'],\n",
    "        'tsnow_threshold': pygem_prms['sim']['params']['tsnow_threshold'],\n",
    "    }"
   ]
  },
  {
   "cell_type": "markdown",
   "id": "d4adc02a",
   "metadata": {},
   "source": [
    "# PREPROCESSING"
   ]
  },
  {
   "cell_type": "code",
   "execution_count": 5,
   "id": "8ed609d5",
   "metadata": {},
   "outputs": [],
   "source": [
    "task_list = [\n",
    "    tasks.process_climate_data,     # process climate_hisotrical data to gdir\n",
    "    mbdata.mb_df_to_gdir,           # process mass balance calibration data to gdir\n",
    "    debris.debris_to_gdir,          # process debris data to gdir\n",
    "    debris.debris_binned,           # add debris to inversion flowlines\n",
    "]\n",
    "for task in task_list:\n",
    "    workflow.execute_entity_task(task, gdirs);"
   ]
  },
  {
   "cell_type": "markdown",
   "id": "772b114a",
   "metadata": {},
   "source": [
    "# INVERSION and GLEN'S A CALIBRATION"
   ]
  },
  {
   "cell_type": "code",
   "execution_count": 6,
   "id": "f1e53faa",
   "metadata": {},
   "outputs": [],
   "source": [
    "# process mb_calib data from geodetic mass balance\n",
    "workflow.execute_entity_task(\n",
    "    tasks.mb_calibration_from_geodetic_mb,\n",
    "    gdirs,\n",
    "    informed_threestep=True,\n",
    "    overwrite_gdir=True,\n",
    ");"
   ]
  },
  {
   "cell_type": "code",
   "execution_count": 7,
   "id": "7f17821a",
   "metadata": {},
   "outputs": [],
   "source": [
    "##############################\n",
    "### INVERSION - no calving ###\n",
    "##############################\n",
    "# note, PyGEMMassBalance_wrapper is passed to `tasks.apparent_mb_from_any_mb` as the `mb_model_class` so that PyGEMs mb model is used for inversion\n",
    "workflow.execute_entity_task(\n",
    "    tasks.apparent_mb_from_any_mb,\n",
    "    gdirs,\n",
    "    mb_model_class=partial(\n",
    "        PyGEMMassBalance_wrapper,\n",
    "        fl_str='inversion_flowlines',\n",
    "        option_areaconstant=True,\n",
    "        inversion_filter=True,\n",
    "    ),\n",
    ");\n",
    "# add debris data to flowlines\n",
    "workflow.execute_entity_task(\n",
    "    debris.debris_binned, gdirs, fl_str='inversion_flowlines'\n",
    ");"
   ]
  },
  {
   "cell_type": "code",
   "execution_count": 8,
   "id": "4dbe7a99",
   "metadata": {},
   "outputs": [
    {
     "name": "stderr",
     "output_type": "stream",
     "text": [
      "More than one grid point has zero or negative flux: this should not happen.\n",
      "More than one grid point has zero or negative flux: this should not happen.\n",
      "More than one grid point has zero or negative flux: this should not happen.\n",
      "More than one grid point has zero or negative flux: this should not happen.\n",
      "More than one grid point has zero or negative flux: this should not happen.\n",
      "More than one grid point has zero or negative flux: this should not happen.\n",
      "More than one grid point has zero or negative flux: this should not happen.\n",
      "More than one grid point has zero or negative flux: this should not happen.\n",
      "More than one grid point has zero or negative flux: this should not happen.\n",
      "More than one grid point has zero or negative flux: this should not happen.\n"
     ]
    }
   ],
   "source": [
    "##########################\n",
    "### CALIBRATE GLEN'S A ###\n",
    "##########################\n",
    "# fit ice thickness to consensus estimates to find \"best\" Glen's A\n",
    "cdf = workflow.calibrate_inversion_from_consensus(\n",
    "        gdirs,\n",
    "        apply_fs_on_mismatch=True,\n",
    "        error_on_mismatch=False,  # if you running many glaciers some might not work\n",
    "        filter_inversion_output=True,  # this partly filters the overdeepening due to\n",
    "        # the equilibrium assumption for retreating glaciers (see. Figure 5 of Maussion et al. 2019)\n",
    "        volume_m3_reference=None,  # here you could provide your own total volume estimate in m3\n",
    ");"
   ]
  },
  {
   "cell_type": "code",
   "execution_count": 9,
   "id": "a2bfc5b7",
   "metadata": {},
   "outputs": [],
   "source": [
    "################################\n",
    "### INVERSION - with calving ###\n",
    "################################\n",
    "cfg.PARAMS['use_kcalving_for_inversion'] = True\n",
    "for gdir in gdirs:\n",
    "    # note, tidewater glacier inversion is not done in parallel since there's not currently a way to pass a different inversion_calving_k to each gdir\n",
    "    if (\n",
    "        gdir.glacier_rgi_table['TermType'] not in [1, 5]\n",
    "        or not pygem_prms['setup']['include_frontalablation']\n",
    "    ):\n",
    "        continue\n",
    "\n",
    "    # Load quality controlled frontal ablation data\n",
    "    fp = f'{pygem_prms[\"root\"]}/{pygem_prms[\"calib\"][\"data\"][\"frontalablation\"][\"frontalablation_relpath\"]}/analysis/{pygem_prms[\"calib\"][\"data\"][\"frontalablation\"][\"frontalablation_cal_fn\"]}'\n",
    "    assert os.path.exists(fp), 'Calibrated calving dataset does not exist'\n",
    "    calving_df = pd.read_csv(fp)\n",
    "    calving_rgiids = list(calving_df.RGIId)\n",
    "\n",
    "    # Use calibrated value if individual data available\n",
    "    if gdir.rgi_id in calving_rgiids:\n",
    "        calving_idx = calving_rgiids.index(gdir.rgi_id)\n",
    "        calving_k = calving_df.loc[calving_idx, 'calving_k']\n",
    "    # Otherwise, use region's median value\n",
    "    else:\n",
    "        calving_df['O1Region'] = [\n",
    "            int(x.split('-')[1].split('.')[0]) for x in calving_df.RGIId.values\n",
    "        ]\n",
    "        calving_df_reg = calving_df.loc[\n",
    "            calving_df['O1Region'] == int(gdir.rgi_id[6:8]), :\n",
    "        ]\n",
    "        calving_k = np.median(calving_df_reg.calving_k)\n",
    "\n",
    "    # increase calving line for inversion so that later spinup will work\n",
    "    cfg.PARAMS['calving_line_extension'] = 120\n",
    "    # set inversion_calving_k\n",
    "    cfg.PARAMS['inversion_calving_k'] = calving_k\n",
    "    print(f'Running inversion for {gdir.rgi_id}, calving_k={calving_k}')\n",
    "\n",
    "    tasks.find_inversion_calving_from_any_mb(\n",
    "        gdir,\n",
    "        mb_model=PyGEMMassBalance_wrapper(\n",
    "            gdir,\n",
    "            fl_str='inversion_flowlines',\n",
    "            option_areaconstant=True,\n",
    "            inversion_filter=True,\n",
    "        ),\n",
    "        glen_a=gdir.get_diagnostics()['inversion_glen_a'],\n",
    "        fs=gdir.get_diagnostics()['inversion_fs'],\n",
    "    );"
   ]
  },
  {
   "cell_type": "code",
   "execution_count": 10,
   "id": "225b3f00",
   "metadata": {},
   "outputs": [],
   "source": [
    "######################\n",
    "### POSTPROCESSING ###\n",
    "######################\n",
    "# finally create the dynamic flowlines\n",
    "workflow.execute_entity_task(tasks.init_present_time_glacier, gdirs);\n",
    "\n",
    "# add debris to model_flowlines\n",
    "workflow.execute_entity_task(debris.debris_binned, gdirs, fl_str='model_flowlines');"
   ]
  },
  {
   "cell_type": "markdown",
   "id": "7eba6e51",
   "metadata": {},
   "source": [
    "Compare ITMIX regional ice volume with that the total inverted for using OGGM."
   ]
  },
  {
   "cell_type": "code",
   "execution_count": 11,
   "id": "25683cb0",
   "metadata": {},
   "outputs": [
    {
     "data": {
      "text/plain": [
       "vol_itmix_m3        3.769574e+12\n",
       "vol_bsl_itmix_m3    8.049952e+09\n",
       "vol_oggm_m3         3.769373e+12\n",
       "dtype: float64"
      ]
     },
     "execution_count": 11,
     "metadata": {},
     "output_type": "execute_result"
    }
   ],
   "source": [
    "cdf.sum()"
   ]
  },
  {
   "cell_type": "code",
   "execution_count": 12,
   "id": "6e8b3880",
   "metadata": {},
   "outputs": [
    {
     "data": {
      "text/plain": [
       "Text(0, 0.5, 'vol_oggm_m3')"
      ]
     },
     "execution_count": 12,
     "metadata": {},
     "output_type": "execute_result"
    },
    {
     "data": {
      "image/png": "[encoded data removed]",
      "text/plain": [
       "<Figure size 640x480 with 1 Axes>"
      ]
     },
     "metadata": {},
     "output_type": "display_data"
    }
   ],
   "source": [
    "fig, ax = plt.subplots(1)\n",
    "\n",
    "ax.scatter(cdf.vol_itmix_m3.values, cdf.vol_oggm_m3.values, alpha=0.5, s=2)\n",
    "\n",
    "# Determine range for 1:1 line\n",
    "min_val = min(cdf.vol_itmix_m3.min(), cdf.vol_oggm_m3.min())\n",
    "max_val = max(cdf.vol_itmix_m3.max(), cdf.vol_oggm_m3.max())\n",
    "# Plot 1:1 line\n",
    "ax.plot([min_val, max_val], [min_val, max_val], 'r', lw=1)\n",
    "ax.set_yscale('log')\n",
    "ax.set_xscale('log')\n",
    "ax.axis('equal')\n",
    "ax.set_xlabel('vol_itmix_m3')\n",
    "ax.set_ylabel('vol_oggm_m3')"
   ]
  },
  {
   "cell_type": "markdown",
   "id": "d7e837ce",
   "metadata": {},
   "source": [
    "Check the calibrated Glen's A creep parameter value"
   ]
  },
  {
   "cell_type": "code",
   "execution_count": 13,
   "id": "85683be5",
   "metadata": {},
   "outputs": [
    {
     "data": {
      "text/plain": [
       "{'dem_source': 'COPDEM90',\n",
       " 'flowline_type': 'elevation_band',\n",
       " 'apparent_mb_from_any_mb_residual': 2669.0860132471803,\n",
       " 'inversion_glen_a': 3.774803215685941e-24,\n",
       " 'inversion_fs': 0}"
      ]
     },
     "execution_count": 13,
     "metadata": {},
     "output_type": "execute_result"
    }
   ],
   "source": [
    "gdirs[0].get_diagnostics()"
   ]
  },
  {
   "cell_type": "markdown",
   "id": "823701a6",
   "metadata": {},
   "source": [
    "Note, all glaciers in the RGI 01-level region will have the same inversion_glen_a value."
   ]
  },
  {
   "cell_type": "markdown",
   "id": "d84c8a8f",
   "metadata": {},
   "source": [
    "We now have a workflow to run bed inversion using PyGEM's mass balance model.  Taking this workfow, can run inversion over glaciers of interest in parallel using a separate script `run_inversion.py`:\n",
    "\n",
    "E.g.\n",
    "```{python}\n",
    "run_inversion -rgi_region01 6 -ncores 6\n",
    "```"
   ]
  },
  {
   "cell_type": "markdown",
   "id": "d53663ed",
   "metadata": {},
   "source": [
    "One more thing: If we wish to not use PyGEM's mass balance mode in inversion, simply remove the `mb_model_class` argument from the call to OGGM's `apparent_mb_from_any_mb` task in cell 7, and the `mb_model` argument from the call to OGGM's `find_inversion_calving_from_any_mb` task in cell 9 - both of these arguments pass the `PyGEMMassBalance_wrapper` object to OGGM, and are not necessary if we wish to use OGGM's own mass balance models."
   ]
  }
 ],
 "metadata": {
  "jupytext": {
   "formats": "ipynb,auto:light"
  },
  "kernelspec": {
   "display_name": "pygem-test",
   "language": "python",
   "name": "python3"
  },
  "language_info": {
   "codemirror_mode": {
    "name": "ipython",
    "version": 3
   },
   "file_extension": ".py",
   "mimetype": "text/x-python",
   "name": "python",
   "nbconvert_exporter": "python",
   "pygments_lexer": "ipython3",
   "version": "3.12.9"
  }
 },
 "nbformat": 4,
 "nbformat_minor": 5
}
